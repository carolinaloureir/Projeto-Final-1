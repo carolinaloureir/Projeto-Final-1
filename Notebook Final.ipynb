{
 "cells": [
  {
   "cell_type": "markdown",
   "metadata": {},
   "source": [
    "# Turismo em Portugal\n",
    "### Projeto Final de Progamação e Algoritmos II\n",
    "\n",
    "##### Docente: \n",
    "João Orvalho\n",
    "\n",
    "##### Discentes: \n",
    "\n",
    "Carolina Loureiro - a2020142240;\n",
    "\n",
    "Carolina Silva - a2020119667;\n",
    "\n",
    "Maria Rei - a2020120515"
   ]
  },
  {
   "cell_type": "markdown",
   "metadata": {},
   "source": [
    "<img src=\"progamação.png\">"
   ]
  },
  {
   "cell_type": "code",
   "execution_count": 1,
   "metadata": {},
   "outputs": [],
   "source": [
    "#celula markdown para obter imagem sem mostrar celula\n",
    "#Image(\"progamação.png\") em celula de codigo tem a mesma função"
   ]
  },
  {
   "cell_type": "code",
   "execution_count": 2,
   "metadata": {},
   "outputs": [],
   "source": [
    "import json  #importar json\n",
    "import pandas as pd   #importar os pandas como pd\n",
    "from pandas.io.json import json_normalize  #importar pandas.io.json como json_normalize\n",
    "import seaborn as sns  #importar seaborn como sns\n",
    "import matplotlib.pyplot as plt   #importar o matplotlib.pyplot para os gráficos como plt\n",
    "import numpy as np  #importar os numpys como np\n",
    "import matplotlib.image as mpi  #importar matplotlib.image como mpi\n",
    "from IPython.display import Image #importar IPython.display como Image"
   ]
  },
  {
   "cell_type": "markdown",
   "metadata": {},
   "source": [
    "## Dados relativos ao número de dormidas nos estabelecimentos no ano 2019"
   ]
  },
  {
   "cell_type": "code",
   "execution_count": 3,
   "metadata": {},
   "outputs": [
    {
     "data": {
      "text/html": [
       "<div>\n",
       "<style scoped>\n",
       "    .dataframe tbody tr th:only-of-type {\n",
       "        vertical-align: middle;\n",
       "    }\n",
       "\n",
       "    .dataframe tbody tr th {\n",
       "        vertical-align: top;\n",
       "    }\n",
       "\n",
       "    .dataframe thead th {\n",
       "        text-align: right;\n",
       "    }\n",
       "</style>\n",
       "<table border=\"1\" class=\"dataframe\">\n",
       "  <thead>\n",
       "    <tr style=\"text-align: right;\">\n",
       "      <th></th>\n",
       "      <th>IndicadorCod</th>\n",
       "      <th>IndicadorDsg</th>\n",
       "      <th>MetaInfUrl</th>\n",
       "      <th>DataExtracao</th>\n",
       "      <th>DataUltimoAtualizacao</th>\n",
       "      <th>UltimoPref</th>\n",
       "      <th>Dados</th>\n",
       "    </tr>\n",
       "  </thead>\n",
       "  <tbody>\n",
       "    <tr>\n",
       "      <th>0</th>\n",
       "      <td>9183</td>\n",
       "      <td>Dormidas (N.º) nos estabelecimentos de alojame...</td>\n",
       "      <td>https://www.ine.pt/bddXplorer/htdocs/minfo.jsp...</td>\n",
       "      <td>2021-04-25T19:48:24.514+01:00</td>\n",
       "      <td>2020-09-29</td>\n",
       "      <td>2019</td>\n",
       "      <td>{'2019': [{'geocod': '1191705', 'geodsg': 'Mon...</td>\n",
       "    </tr>\n",
       "  </tbody>\n",
       "</table>\n",
       "</div>"
      ],
      "text/plain": [
       "   IndicadorCod                                       IndicadorDsg  \\\n",
       "0          9183  Dormidas (N.º) nos estabelecimentos de alojame...   \n",
       "\n",
       "                                          MetaInfUrl  \\\n",
       "0  https://www.ine.pt/bddXplorer/htdocs/minfo.jsp...   \n",
       "\n",
       "                    DataExtracao DataUltimoAtualizacao  UltimoPref  \\\n",
       "0  2021-04-25T19:48:24.514+01:00            2020-09-29        2019   \n",
       "\n",
       "                                               Dados  \n",
       "0  {'2019': [{'geocod': '1191705', 'geodsg': 'Mon...  "
      ]
     },
     "execution_count": 3,
     "metadata": {},
     "output_type": "execute_result"
    }
   ],
   "source": [
    "#ter atenção à diferença entre json e cvs\n",
    "#json é formato diferente(umas listas dentros de outras)\n",
    "dormidas = pd.read_json(\"Dormidas nº estadia.json\") #leitura do primeiro conjunto de dados\n",
    "dormidas.head()"
   ]
  },
  {
   "cell_type": "code",
   "execution_count": 4,
   "metadata": {
    "scrolled": true
   },
   "outputs": [
    {
     "name": "stderr",
     "output_type": "stream",
     "text": [
      "<ipython-input-4-bf3b6c42c003>:5: FutureWarning: pandas.io.json.json_normalize is deprecated, use pandas.json_normalize instead\n",
      "  dadosDormidas = json_normalize(dormidas['Dados'])\n"
     ]
    },
    {
     "data": {
      "text/html": [
       "<div>\n",
       "<style scoped>\n",
       "    .dataframe tbody tr th:only-of-type {\n",
       "        vertical-align: middle;\n",
       "    }\n",
       "\n",
       "    .dataframe tbody tr th {\n",
       "        vertical-align: top;\n",
       "    }\n",
       "\n",
       "    .dataframe thead th {\n",
       "        text-align: right;\n",
       "    }\n",
       "</style>\n",
       "<table border=\"1\" class=\"dataframe\">\n",
       "  <thead>\n",
       "    <tr style=\"text-align: right;\">\n",
       "      <th></th>\n",
       "      <th>2019</th>\n",
       "    </tr>\n",
       "  </thead>\n",
       "  <tbody>\n",
       "    <tr>\n",
       "      <th>0</th>\n",
       "      <td>[{'geocod': '1191705', 'geodsg': 'Mondim de Ba...</td>\n",
       "    </tr>\n",
       "  </tbody>\n",
       "</table>\n",
       "</div>"
      ],
      "text/plain": [
       "                                                2019\n",
       "0  [{'geocod': '1191705', 'geodsg': 'Mondim de Ba..."
      ]
     },
     "execution_count": 4,
     "metadata": {},
     "output_type": "execute_result"
    }
   ],
   "source": [
    "#abrir o ficheiro como objeto\n",
    "#correr/abrir lista\n",
    "#with open('Dormidas nº estadia.json') as f:\n",
    "#    d = json.load(f)\n",
    "dadosDormidas = json_normalize(dormidas['Dados'])\n",
    "dadosDormidas.head()"
   ]
  },
  {
   "cell_type": "code",
   "execution_count": 5,
   "metadata": {},
   "outputs": [
    {
     "name": "stderr",
     "output_type": "stream",
     "text": [
      "<ipython-input-5-adf158af1815>:1: FutureWarning: pandas.io.json.json_normalize is deprecated, use pandas.json_normalize instead\n",
      "  dados2019 = json_normalize(dadosDormidas['2019'][0]) # abrir lista dentro de lista\n"
     ]
    },
    {
     "data": {
      "text/html": [
       "<div>\n",
       "<style scoped>\n",
       "    .dataframe tbody tr th:only-of-type {\n",
       "        vertical-align: middle;\n",
       "    }\n",
       "\n",
       "    .dataframe tbody tr th {\n",
       "        vertical-align: top;\n",
       "    }\n",
       "\n",
       "    .dataframe thead th {\n",
       "        text-align: right;\n",
       "    }\n",
       "</style>\n",
       "<table border=\"1\" class=\"dataframe\">\n",
       "  <thead>\n",
       "    <tr style=\"text-align: right;\">\n",
       "      <th></th>\n",
       "      <th>geocod</th>\n",
       "      <th>geodsg</th>\n",
       "      <th>dim_3</th>\n",
       "      <th>dim_3_t</th>\n",
       "      <th>valor</th>\n",
       "      <th>sinal_conv</th>\n",
       "      <th>sinal_conv_desc</th>\n",
       "    </tr>\n",
       "  </thead>\n",
       "  <tbody>\n",
       "    <tr>\n",
       "      <th>0</th>\n",
       "      <td>1191705</td>\n",
       "      <td>Mondim de Basto</td>\n",
       "      <td>BR</td>\n",
       "      <td>Brasil</td>\n",
       "      <td>333</td>\n",
       "      <td>NaN</td>\n",
       "      <td>NaN</td>\n",
       "    </tr>\n",
       "    <tr>\n",
       "      <th>1</th>\n",
       "      <td>11A</td>\n",
       "      <td>Área Metropolitana do Porto</td>\n",
       "      <td>BR</td>\n",
       "      <td>Brasil</td>\n",
       "      <td>562249</td>\n",
       "      <td>NaN</td>\n",
       "      <td>NaN</td>\n",
       "    </tr>\n",
       "    <tr>\n",
       "      <th>2</th>\n",
       "      <td>11A0104</td>\n",
       "      <td>Arouca</td>\n",
       "      <td>BR</td>\n",
       "      <td>Brasil</td>\n",
       "      <td>261</td>\n",
       "      <td>NaN</td>\n",
       "      <td>NaN</td>\n",
       "    </tr>\n",
       "    <tr>\n",
       "      <th>3</th>\n",
       "      <td>11A0107</td>\n",
       "      <td>Espinho</td>\n",
       "      <td>BR</td>\n",
       "      <td>Brasil</td>\n",
       "      <td>3134</td>\n",
       "      <td>NaN</td>\n",
       "      <td>NaN</td>\n",
       "    </tr>\n",
       "    <tr>\n",
       "      <th>4</th>\n",
       "      <td>1500811</td>\n",
       "      <td>Portimão</td>\n",
       "      <td>BR</td>\n",
       "      <td>Brasil</td>\n",
       "      <td>25571</td>\n",
       "      <td>NaN</td>\n",
       "      <td>NaN</td>\n",
       "    </tr>\n",
       "  </tbody>\n",
       "</table>\n",
       "</div>"
      ],
      "text/plain": [
       "    geocod                       geodsg dim_3 dim_3_t   valor sinal_conv  \\\n",
       "0  1191705              Mondim de Basto    BR  Brasil     333        NaN   \n",
       "1      11A  Área Metropolitana do Porto    BR  Brasil  562249        NaN   \n",
       "2  11A0104                       Arouca    BR  Brasil     261        NaN   \n",
       "3  11A0107                      Espinho    BR  Brasil    3134        NaN   \n",
       "4  1500811                     Portimão    BR  Brasil   25571        NaN   \n",
       "\n",
       "  sinal_conv_desc  \n",
       "0             NaN  \n",
       "1             NaN  \n",
       "2             NaN  \n",
       "3             NaN  \n",
       "4             NaN  "
      ]
     },
     "execution_count": 5,
     "metadata": {},
     "output_type": "execute_result"
    }
   ],
   "source": [
    "dados2019 = json_normalize(dadosDormidas['2019'][0]) # abrir lista dentro de lista\n",
    "dados2019.head() # ver as primeiras cinco linhas"
   ]
  },
  {
   "cell_type": "code",
   "execution_count": 6,
   "metadata": {},
   "outputs": [
    {
     "data": {
      "text/html": [
       "<div>\n",
       "<style scoped>\n",
       "    .dataframe tbody tr th:only-of-type {\n",
       "        vertical-align: middle;\n",
       "    }\n",
       "\n",
       "    .dataframe tbody tr th {\n",
       "        vertical-align: top;\n",
       "    }\n",
       "\n",
       "    .dataframe thead th {\n",
       "        text-align: right;\n",
       "    }\n",
       "</style>\n",
       "<table border=\"1\" class=\"dataframe\">\n",
       "  <thead>\n",
       "    <tr style=\"text-align: right;\">\n",
       "      <th></th>\n",
       "      <th>geocod</th>\n",
       "      <th>geodsg</th>\n",
       "      <th>dim_3</th>\n",
       "      <th>dim_3_t</th>\n",
       "      <th>valor</th>\n",
       "      <th>sinal_conv</th>\n",
       "      <th>sinal_conv_desc</th>\n",
       "    </tr>\n",
       "  </thead>\n",
       "  <tbody>\n",
       "    <tr>\n",
       "      <th>17195</th>\n",
       "      <td>11A1310</td>\n",
       "      <td>Paredes</td>\n",
       "      <td>BG</td>\n",
       "      <td>Bulgária</td>\n",
       "      <td>21</td>\n",
       "      <td>NaN</td>\n",
       "      <td>NaN</td>\n",
       "    </tr>\n",
       "    <tr>\n",
       "      <th>17196</th>\n",
       "      <td>11A1312</td>\n",
       "      <td>Porto</td>\n",
       "      <td>BG</td>\n",
       "      <td>Bulgária</td>\n",
       "      <td>5636</td>\n",
       "      <td>NaN</td>\n",
       "      <td>NaN</td>\n",
       "    </tr>\n",
       "    <tr>\n",
       "      <th>17197</th>\n",
       "      <td>11A1313</td>\n",
       "      <td>Póvoa de Varzim</td>\n",
       "      <td>BG</td>\n",
       "      <td>Bulgária</td>\n",
       "      <td>3585</td>\n",
       "      <td>NaN</td>\n",
       "      <td>NaN</td>\n",
       "    </tr>\n",
       "    <tr>\n",
       "      <th>17198</th>\n",
       "      <td>1111605</td>\n",
       "      <td>Paredes de Coura</td>\n",
       "      <td>BG</td>\n",
       "      <td>Bulgária</td>\n",
       "      <td>NaN</td>\n",
       "      <td>-</td>\n",
       "      <td>Dado nulo ou não aplicável</td>\n",
       "    </tr>\n",
       "    <tr>\n",
       "      <th>17199</th>\n",
       "      <td>1111606</td>\n",
       "      <td>Ponte da Barca</td>\n",
       "      <td>BG</td>\n",
       "      <td>Bulgária</td>\n",
       "      <td>NaN</td>\n",
       "      <td>-</td>\n",
       "      <td>Dado nulo ou não aplicável</td>\n",
       "    </tr>\n",
       "  </tbody>\n",
       "</table>\n",
       "</div>"
      ],
      "text/plain": [
       "        geocod            geodsg dim_3   dim_3_t valor sinal_conv  \\\n",
       "17195  11A1310           Paredes    BG  Bulgária    21        NaN   \n",
       "17196  11A1312             Porto    BG  Bulgária  5636        NaN   \n",
       "17197  11A1313   Póvoa de Varzim    BG  Bulgária  3585        NaN   \n",
       "17198  1111605  Paredes de Coura    BG  Bulgária   NaN          -   \n",
       "17199  1111606    Ponte da Barca    BG  Bulgária   NaN          -   \n",
       "\n",
       "                  sinal_conv_desc  \n",
       "17195                         NaN  \n",
       "17196                         NaN  \n",
       "17197                         NaN  \n",
       "17198  Dado nulo ou não aplicável  \n",
       "17199  Dado nulo ou não aplicável  "
      ]
     },
     "execution_count": 6,
     "metadata": {},
     "output_type": "execute_result"
    }
   ],
   "source": [
    "dados2019.tail() # ver as últimas cinco linhas"
   ]
  },
  {
   "cell_type": "markdown",
   "metadata": {},
   "source": [
    "#### Como aceder ao tamanho da tabela de dados de 2019?"
   ]
  },
  {
   "cell_type": "code",
   "execution_count": 7,
   "metadata": {
    "scrolled": true
   },
   "outputs": [
    {
     "name": "stdout",
     "output_type": "stream",
     "text": [
      "Tamanho dos dados: 17200\n"
     ]
    }
   ],
   "source": [
    "tamanho_tabela_1= len(dados2019)\n",
    "#noção da quantidade de dados (nº de linhas)\n",
    "print (\"Tamanho dos dados:\",tamanho_tabela_1) # usamos o print para poder inserir a frase"
   ]
  },
  {
   "cell_type": "markdown",
   "metadata": {},
   "source": [
    "#### Renomear colunas e mostrar colunas importantes"
   ]
  },
  {
   "cell_type": "code",
   "execution_count": 8,
   "metadata": {},
   "outputs": [
    {
     "data": {
      "text/html": [
       "<div>\n",
       "<style scoped>\n",
       "    .dataframe tbody tr th:only-of-type {\n",
       "        vertical-align: middle;\n",
       "    }\n",
       "\n",
       "    .dataframe tbody tr th {\n",
       "        vertical-align: top;\n",
       "    }\n",
       "\n",
       "    .dataframe thead th {\n",
       "        text-align: right;\n",
       "    }\n",
       "</style>\n",
       "<table border=\"1\" class=\"dataframe\">\n",
       "  <thead>\n",
       "    <tr style=\"text-align: right;\">\n",
       "      <th></th>\n",
       "      <th>Codigo</th>\n",
       "      <th>Geografia</th>\n",
       "      <th>Local</th>\n",
       "      <th>Localidade</th>\n",
       "      <th>Valor</th>\n",
       "    </tr>\n",
       "  </thead>\n",
       "  <tbody>\n",
       "    <tr>\n",
       "      <th>0</th>\n",
       "      <td>1191705</td>\n",
       "      <td>Mondim de Basto</td>\n",
       "      <td>BR</td>\n",
       "      <td>Brasil</td>\n",
       "      <td>333</td>\n",
       "    </tr>\n",
       "    <tr>\n",
       "      <th>1</th>\n",
       "      <td>11A</td>\n",
       "      <td>Área Metropolitana do Porto</td>\n",
       "      <td>BR</td>\n",
       "      <td>Brasil</td>\n",
       "      <td>562249</td>\n",
       "    </tr>\n",
       "    <tr>\n",
       "      <th>2</th>\n",
       "      <td>11A0104</td>\n",
       "      <td>Arouca</td>\n",
       "      <td>BR</td>\n",
       "      <td>Brasil</td>\n",
       "      <td>261</td>\n",
       "    </tr>\n",
       "    <tr>\n",
       "      <th>3</th>\n",
       "      <td>11A0107</td>\n",
       "      <td>Espinho</td>\n",
       "      <td>BR</td>\n",
       "      <td>Brasil</td>\n",
       "      <td>3134</td>\n",
       "    </tr>\n",
       "    <tr>\n",
       "      <th>4</th>\n",
       "      <td>1500811</td>\n",
       "      <td>Portimão</td>\n",
       "      <td>BR</td>\n",
       "      <td>Brasil</td>\n",
       "      <td>25571</td>\n",
       "    </tr>\n",
       "  </tbody>\n",
       "</table>\n",
       "</div>"
      ],
      "text/plain": [
       "    Codigo                    Geografia Local Localidade   Valor\n",
       "0  1191705              Mondim de Basto    BR     Brasil     333\n",
       "1      11A  Área Metropolitana do Porto    BR     Brasil  562249\n",
       "2  11A0104                       Arouca    BR     Brasil     261\n",
       "3  11A0107                      Espinho    BR     Brasil    3134\n",
       "4  1500811                     Portimão    BR     Brasil   25571"
      ]
     },
     "execution_count": 8,
     "metadata": {},
     "output_type": "execute_result"
    }
   ],
   "source": [
    "dados=dados2019.rename(columns={'geocod':'Codigo','geodsg':'Geografia','dim_3':'Local','dim_3_t': 'Localidade','valor':'Valor'})\n",
    "#definir nomes mais simples e ignorar colunas sem valores\n",
    "dados_1 = dados.loc[:,\"Codigo\":\"Valor\"] # mostrar apenas a colunas que pretendemos \n",
    "dados_1.head()"
   ]
  },
  {
   "cell_type": "markdown",
   "metadata": {},
   "source": [
    "#### Quantidade de posições sem valores"
   ]
  },
  {
   "cell_type": "code",
   "execution_count": 9,
   "metadata": {},
   "outputs": [
    {
     "data": {
      "text/plain": [
       "Codigo                 0\n",
       "Geografia              0\n",
       "Local                  0\n",
       "Localidade             0\n",
       "Valor               3700\n",
       "sinal_conv         13500\n",
       "sinal_conv_desc    13500\n",
       "dtype: int64"
      ]
     },
     "execution_count": 9,
     "metadata": {},
     "output_type": "execute_result"
    }
   ],
   "source": [
    "# sum vai fazer a soma dos valores em falta, em dada coluna\n",
    "sem_valores=dados.isna().sum() # bastava utilizar dados.isna().sum(),mas se quisemos nomear todas as funções\n",
    "sem_valores"
   ]
  },
  {
   "cell_type": "markdown",
   "metadata": {},
   "source": [
    "#### Eliminar colunas com dados em falta"
   ]
  },
  {
   "cell_type": "code",
   "execution_count": 10,
   "metadata": {},
   "outputs": [
    {
     "data": {
      "text/html": [
       "<div>\n",
       "<style scoped>\n",
       "    .dataframe tbody tr th:only-of-type {\n",
       "        vertical-align: middle;\n",
       "    }\n",
       "\n",
       "    .dataframe tbody tr th {\n",
       "        vertical-align: top;\n",
       "    }\n",
       "\n",
       "    .dataframe thead th {\n",
       "        text-align: right;\n",
       "    }\n",
       "</style>\n",
       "<table border=\"1\" class=\"dataframe\">\n",
       "  <thead>\n",
       "    <tr style=\"text-align: right;\">\n",
       "      <th></th>\n",
       "      <th>Codigo</th>\n",
       "      <th>Geografia</th>\n",
       "      <th>Local</th>\n",
       "      <th>Localidade</th>\n",
       "    </tr>\n",
       "  </thead>\n",
       "  <tbody>\n",
       "    <tr>\n",
       "      <th>0</th>\n",
       "      <td>1191705</td>\n",
       "      <td>Mondim de Basto</td>\n",
       "      <td>BR</td>\n",
       "      <td>Brasil</td>\n",
       "    </tr>\n",
       "    <tr>\n",
       "      <th>1</th>\n",
       "      <td>11A</td>\n",
       "      <td>Área Metropolitana do Porto</td>\n",
       "      <td>BR</td>\n",
       "      <td>Brasil</td>\n",
       "    </tr>\n",
       "    <tr>\n",
       "      <th>2</th>\n",
       "      <td>11A0104</td>\n",
       "      <td>Arouca</td>\n",
       "      <td>BR</td>\n",
       "      <td>Brasil</td>\n",
       "    </tr>\n",
       "    <tr>\n",
       "      <th>3</th>\n",
       "      <td>11A0107</td>\n",
       "      <td>Espinho</td>\n",
       "      <td>BR</td>\n",
       "      <td>Brasil</td>\n",
       "    </tr>\n",
       "    <tr>\n",
       "      <th>4</th>\n",
       "      <td>1500811</td>\n",
       "      <td>Portimão</td>\n",
       "      <td>BR</td>\n",
       "      <td>Brasil</td>\n",
       "    </tr>\n",
       "  </tbody>\n",
       "</table>\n",
       "</div>"
      ],
      "text/plain": [
       "    Codigo                    Geografia Local Localidade\n",
       "0  1191705              Mondim de Basto    BR     Brasil\n",
       "1      11A  Área Metropolitana do Porto    BR     Brasil\n",
       "2  11A0104                       Arouca    BR     Brasil\n",
       "3  11A0107                      Espinho    BR     Brasil\n",
       "4  1500811                     Portimão    BR     Brasil"
      ]
     },
     "execution_count": 10,
     "metadata": {},
     "output_type": "execute_result"
    }
   ],
   "source": [
    "result_sc = dados.dropna(axis='columns') # dropna elimina neste caso as colunas com dados em falta\n",
    "result_sc.head()"
   ]
  },
  {
   "cell_type": "markdown",
   "metadata": {},
   "source": [
    "#### Como aceder aos dados que pertencem a Portugal no ano de 2019"
   ]
  },
  {
   "cell_type": "code",
   "execution_count": 11,
   "metadata": {},
   "outputs": [
    {
     "data": {
      "text/html": [
       "<div>\n",
       "<style scoped>\n",
       "    .dataframe tbody tr th:only-of-type {\n",
       "        vertical-align: middle;\n",
       "    }\n",
       "\n",
       "    .dataframe tbody tr th {\n",
       "        vertical-align: top;\n",
       "    }\n",
       "\n",
       "    .dataframe thead th {\n",
       "        text-align: right;\n",
       "    }\n",
       "</style>\n",
       "<table border=\"1\" class=\"dataframe\">\n",
       "  <thead>\n",
       "    <tr style=\"text-align: right;\">\n",
       "      <th></th>\n",
       "      <th>Codigo</th>\n",
       "      <th>Geografia</th>\n",
       "      <th>Local</th>\n",
       "      <th>Localidade</th>\n",
       "      <th>Valor</th>\n",
       "    </tr>\n",
       "  </thead>\n",
       "  <tbody>\n",
       "    <tr>\n",
       "      <th>11008</th>\n",
       "      <td>1191705</td>\n",
       "      <td>Mondim de Basto</td>\n",
       "      <td>PT</td>\n",
       "      <td>Portugal</td>\n",
       "      <td>43199</td>\n",
       "    </tr>\n",
       "    <tr>\n",
       "      <th>11009</th>\n",
       "      <td>11A</td>\n",
       "      <td>Área Metropolitana do Porto</td>\n",
       "      <td>PT</td>\n",
       "      <td>Portugal</td>\n",
       "      <td>1997944</td>\n",
       "    </tr>\n",
       "    <tr>\n",
       "      <th>11010</th>\n",
       "      <td>11A0104</td>\n",
       "      <td>Arouca</td>\n",
       "      <td>PT</td>\n",
       "      <td>Portugal</td>\n",
       "      <td>27352</td>\n",
       "    </tr>\n",
       "    <tr>\n",
       "      <th>11011</th>\n",
       "      <td>11A0107</td>\n",
       "      <td>Espinho</td>\n",
       "      <td>PT</td>\n",
       "      <td>Portugal</td>\n",
       "      <td>44340</td>\n",
       "    </tr>\n",
       "    <tr>\n",
       "      <th>11012</th>\n",
       "      <td>1500811</td>\n",
       "      <td>Portimão</td>\n",
       "      <td>PT</td>\n",
       "      <td>Portugal</td>\n",
       "      <td>710048</td>\n",
       "    </tr>\n",
       "  </tbody>\n",
       "</table>\n",
       "</div>"
      ],
      "text/plain": [
       "        Codigo                    Geografia Local Localidade    Valor\n",
       "11008  1191705              Mondim de Basto    PT   Portugal    43199\n",
       "11009      11A  Área Metropolitana do Porto    PT   Portugal  1997944\n",
       "11010  11A0104                       Arouca    PT   Portugal    27352\n",
       "11011  11A0107                      Espinho    PT   Portugal    44340\n",
       "11012  1500811                     Portimão    PT   Portugal   710048"
      ]
     },
     "execution_count": 11,
     "metadata": {},
     "output_type": "execute_result"
    }
   ],
   "source": [
    "rslt_dados2019 = dados_1.loc[(dados_1 ['Localidade'] == 'Portugal')]\n",
    "#loc premite aceder aos que pretencem a portugal\n",
    "rslt_dados2019.head()"
   ]
  },
  {
   "cell_type": "markdown",
   "metadata": {},
   "source": [
    "#### Eliminar linhas com dados em falta"
   ]
  },
  {
   "cell_type": "code",
   "execution_count": 12,
   "metadata": {},
   "outputs": [
    {
     "data": {
      "text/html": [
       "<div>\n",
       "<style scoped>\n",
       "    .dataframe tbody tr th:only-of-type {\n",
       "        vertical-align: middle;\n",
       "    }\n",
       "\n",
       "    .dataframe tbody tr th {\n",
       "        vertical-align: top;\n",
       "    }\n",
       "\n",
       "    .dataframe thead th {\n",
       "        text-align: right;\n",
       "    }\n",
       "</style>\n",
       "<table border=\"1\" class=\"dataframe\">\n",
       "  <thead>\n",
       "    <tr style=\"text-align: right;\">\n",
       "      <th></th>\n",
       "      <th>Codigo</th>\n",
       "      <th>Geografia</th>\n",
       "      <th>Local</th>\n",
       "      <th>Localidade</th>\n",
       "      <th>Valor</th>\n",
       "    </tr>\n",
       "  </thead>\n",
       "  <tbody>\n",
       "    <tr>\n",
       "      <th>0</th>\n",
       "      <td>1191705</td>\n",
       "      <td>Mondim de Basto</td>\n",
       "      <td>BR</td>\n",
       "      <td>Brasil</td>\n",
       "      <td>333</td>\n",
       "    </tr>\n",
       "    <tr>\n",
       "      <th>1</th>\n",
       "      <td>11A</td>\n",
       "      <td>Área Metropolitana do Porto</td>\n",
       "      <td>BR</td>\n",
       "      <td>Brasil</td>\n",
       "      <td>562249</td>\n",
       "    </tr>\n",
       "    <tr>\n",
       "      <th>2</th>\n",
       "      <td>11A0104</td>\n",
       "      <td>Arouca</td>\n",
       "      <td>BR</td>\n",
       "      <td>Brasil</td>\n",
       "      <td>261</td>\n",
       "    </tr>\n",
       "    <tr>\n",
       "      <th>3</th>\n",
       "      <td>11A0107</td>\n",
       "      <td>Espinho</td>\n",
       "      <td>BR</td>\n",
       "      <td>Brasil</td>\n",
       "      <td>3134</td>\n",
       "    </tr>\n",
       "    <tr>\n",
       "      <th>4</th>\n",
       "      <td>1500811</td>\n",
       "      <td>Portimão</td>\n",
       "      <td>BR</td>\n",
       "      <td>Brasil</td>\n",
       "      <td>25571</td>\n",
       "    </tr>\n",
       "  </tbody>\n",
       "</table>\n",
       "</div>"
      ],
      "text/plain": [
       "    Codigo                    Geografia Local Localidade   Valor\n",
       "0  1191705              Mondim de Basto    BR     Brasil     333\n",
       "1      11A  Área Metropolitana do Porto    BR     Brasil  562249\n",
       "2  11A0104                       Arouca    BR     Brasil     261\n",
       "3  11A0107                      Espinho    BR     Brasil    3134\n",
       "4  1500811                     Portimão    BR     Brasil   25571"
      ]
     },
     "execution_count": 12,
     "metadata": {},
     "output_type": "execute_result"
    }
   ],
   "source": [
    "#elimina as linhas com falta de dados nas colunas descritas\n",
    "result_sl = dados_1.dropna(subset=['Codigo','Geografia','Local','Localidade','Valor'])\n",
    "result_sl.head()"
   ]
  },
  {
   "cell_type": "markdown",
   "metadata": {},
   "source": [
    "## Dados relativos aos alojamentos no ano de 2019 na localidade de Águeda"
   ]
  },
  {
   "cell_type": "code",
   "execution_count": 13,
   "metadata": {
    "scrolled": true
   },
   "outputs": [
    {
     "data": {
      "text/html": [
       "<div>\n",
       "<style scoped>\n",
       "    .dataframe tbody tr th:only-of-type {\n",
       "        vertical-align: middle;\n",
       "    }\n",
       "\n",
       "    .dataframe tbody tr th {\n",
       "        vertical-align: top;\n",
       "    }\n",
       "\n",
       "    .dataframe thead th {\n",
       "        text-align: right;\n",
       "    }\n",
       "</style>\n",
       "<table border=\"1\" class=\"dataframe\">\n",
       "  <thead>\n",
       "    <tr style=\"text-align: right;\">\n",
       "      <th></th>\n",
       "      <th>tipo</th>\n",
       "      <th>modalidade</th>\n",
       "      <th>categoria</th>\n",
       "      <th>nome</th>\n",
       "      <th>morada</th>\n",
       "      <th>site</th>\n",
       "      <th>e_mail</th>\n",
       "      <th>telefone</th>\n",
       "      <th>fax</th>\n",
       "      <th>freguesia</th>\n",
       "    </tr>\n",
       "  </thead>\n",
       "  <tbody>\n",
       "    <tr>\n",
       "      <th>0</th>\n",
       "      <td>Empreendimento turístico</td>\n",
       "      <td>Motel</td>\n",
       "      <td>-</td>\n",
       "      <td>Motel Alameda</td>\n",
       "      <td>EN1, Cavada Nova, 3750-604 Macinhata do Vouga</td>\n",
       "      <td>http://www.alameda-hotel.com/pt-pt</td>\n",
       "      <td>hotelalameda@sapo.pt</td>\n",
       "      <td>234523402.0</td>\n",
       "      <td>234523449.0</td>\n",
       "      <td>Macinhata do Vouga</td>\n",
       "    </tr>\n",
       "    <tr>\n",
       "      <th>1</th>\n",
       "      <td>Empreendimento turístico</td>\n",
       "      <td>Residencial</td>\n",
       "      <td>-</td>\n",
       "      <td>Residencial Celeste</td>\n",
       "      <td>Rua Misericordia de Agueda 713, 3750-130 Agueda</td>\n",
       "      <td>www.residencialceleste.com</td>\n",
       "      <td>residencialceleste@hotmail.com</td>\n",
       "      <td>234602871.0</td>\n",
       "      <td>234602871.0</td>\n",
       "      <td>UF Águeda e Borralha</td>\n",
       "    </tr>\n",
       "    <tr>\n",
       "      <th>2</th>\n",
       "      <td>Empreendimento turístico</td>\n",
       "      <td>Residencial</td>\n",
       "      <td>-</td>\n",
       "      <td>Residencial Castro</td>\n",
       "      <td>Rua da Famel 295, Barrosinhas,ZI EN1 Norte, 37...</td>\n",
       "      <td>www.residencialcastro.pt</td>\n",
       "      <td>geral@residencialcastro.pt</td>\n",
       "      <td>234644356.0</td>\n",
       "      <td>234644993.0</td>\n",
       "      <td>UF Trofa, Segadães e Lamas</td>\n",
       "    </tr>\n",
       "    <tr>\n",
       "      <th>3</th>\n",
       "      <td>Alojamento local</td>\n",
       "      <td>Moradia</td>\n",
       "      <td>-</td>\n",
       "      <td>Quinta Santa Maria do Monte de Alcobar</td>\n",
       "      <td>Rua da Escola 120C, 3750-561  Macieira de Alcoba</td>\n",
       "      <td>-</td>\n",
       "      <td>antonio.amaro@ua.pt</td>\n",
       "      <td>NaN</td>\n",
       "      <td>NaN</td>\n",
       "      <td>UF Préstimo e Macieira Alcôba</td>\n",
       "    </tr>\n",
       "    <tr>\n",
       "      <th>4</th>\n",
       "      <td>Empreendimento turístico</td>\n",
       "      <td>Hotel</td>\n",
       "      <td>4 estrelas</td>\n",
       "      <td>Hotel Conde de Águeda</td>\n",
       "      <td>Rua Antonio Ferreira Sucena 7, 3750-121 Águeda</td>\n",
       "      <td>www.hotelcondedagueda.pt</td>\n",
       "      <td>geral@hotelcondedagueda.pt</td>\n",
       "      <td>234610390.0</td>\n",
       "      <td>234610399.0</td>\n",
       "      <td>UF Águeda e Borralha</td>\n",
       "    </tr>\n",
       "  </tbody>\n",
       "</table>\n",
       "</div>"
      ],
      "text/plain": [
       "                       tipo   modalidade   categoria  \\\n",
       "0  Empreendimento turístico        Motel           -   \n",
       "1  Empreendimento turístico  Residencial           -   \n",
       "2  Empreendimento turístico  Residencial           -   \n",
       "3          Alojamento local      Moradia           -   \n",
       "4  Empreendimento turístico        Hotel  4 estrelas   \n",
       "\n",
       "                                     nome  \\\n",
       "0                           Motel Alameda   \n",
       "1                     Residencial Celeste   \n",
       "2                      Residencial Castro   \n",
       "3  Quinta Santa Maria do Monte de Alcobar   \n",
       "4                   Hotel Conde de Águeda   \n",
       "\n",
       "                                              morada  \\\n",
       "0      EN1, Cavada Nova, 3750-604 Macinhata do Vouga   \n",
       "1    Rua Misericordia de Agueda 713, 3750-130 Agueda   \n",
       "2  Rua da Famel 295, Barrosinhas,ZI EN1 Norte, 37...   \n",
       "3   Rua da Escola 120C, 3750-561  Macieira de Alcoba   \n",
       "4     Rua Antonio Ferreira Sucena 7, 3750-121 Águeda   \n",
       "\n",
       "                                 site                          e_mail  \\\n",
       "0  http://www.alameda-hotel.com/pt-pt            hotelalameda@sapo.pt   \n",
       "1          www.residencialceleste.com  residencialceleste@hotmail.com   \n",
       "2            www.residencialcastro.pt      geral@residencialcastro.pt   \n",
       "3                                   -             antonio.amaro@ua.pt   \n",
       "4            www.hotelcondedagueda.pt      geral@hotelcondedagueda.pt   \n",
       "\n",
       "      telefone          fax                      freguesia  \n",
       "0  234523402.0  234523449.0             Macinhata do Vouga  \n",
       "1  234602871.0  234602871.0           UF Águeda e Borralha  \n",
       "2  234644356.0  234644993.0     UF Trofa, Segadães e Lamas  \n",
       "3          NaN          NaN  UF Préstimo e Macieira Alcôba  \n",
       "4  234610390.0  234610399.0           UF Águeda e Borralha  "
      ]
     },
     "execution_count": 13,
     "metadata": {},
     "output_type": "execute_result"
    }
   ],
   "source": [
    "#csv aparece em tabela e \"titulos\" dá para selecionar/identificar\n",
    "alojamentos = pd.read_csv(\"alojamento2019.csv\")\n",
    "alojamentos.head()"
   ]
  },
  {
   "cell_type": "markdown",
   "metadata": {},
   "source": [
    "#### Total de informação em falta e posições em que se encontram"
   ]
  },
  {
   "cell_type": "code",
   "execution_count": 14,
   "metadata": {},
   "outputs": [
    {
     "name": "stdout",
     "output_type": "stream",
     "text": [
      "Espaços sem informação: 56\n"
     ]
    },
    {
     "data": {
      "image/png": "[encoded data removed]",
      "text/plain": [
       "<Figure size 720x360 with 1 Axes>"
      ]
     },
     "metadata": {
      "needs_background": "light"
     },
     "output_type": "display_data"
    }
   ],
   "source": [
    "al_sv = alojamentos.isna().sum().sum() #soma de todos os dados em falta, print para incerir frase  \n",
    "print (\"Espaços sem informação:\",al_sv) # total dos dados em falta\n",
    "plt.figure(figsize=(10,5)) #tamanho da imagem \n",
    "sns.heatmap(alojamentos.isnull(), cbar=False, cmap=\"YlGnBu\") # mostrar localização dos dados em falta \n",
    "al_sv_1=plt.show() # mostrar o gráfico \n",
    "al_sv_1"
   ]
  },
  {
   "cell_type": "markdown",
   "metadata": {},
   "source": [
    "#### Ordenar por ordem alfabética os nomes dos alojamentos"
   ]
  },
  {
   "cell_type": "code",
   "execution_count": 15,
   "metadata": {},
   "outputs": [
    {
     "data": {
      "text/html": [
       "<div>\n",
       "<style scoped>\n",
       "    .dataframe tbody tr th:only-of-type {\n",
       "        vertical-align: middle;\n",
       "    }\n",
       "\n",
       "    .dataframe tbody tr th {\n",
       "        vertical-align: top;\n",
       "    }\n",
       "\n",
       "    .dataframe thead th {\n",
       "        text-align: right;\n",
       "    }\n",
       "</style>\n",
       "<table border=\"1\" class=\"dataframe\">\n",
       "  <thead>\n",
       "    <tr style=\"text-align: right;\">\n",
       "      <th></th>\n",
       "      <th>tipo</th>\n",
       "      <th>modalidade</th>\n",
       "      <th>categoria</th>\n",
       "      <th>nome</th>\n",
       "      <th>morada</th>\n",
       "      <th>site</th>\n",
       "      <th>e_mail</th>\n",
       "      <th>telefone</th>\n",
       "      <th>fax</th>\n",
       "      <th>freguesia</th>\n",
       "    </tr>\n",
       "  </thead>\n",
       "  <tbody>\n",
       "    <tr>\n",
       "      <th>15</th>\n",
       "      <td>Alojamento local</td>\n",
       "      <td>Estabelecimento de hospedagem - Hostel</td>\n",
       "      <td>-</td>\n",
       "      <td>Agueda Hostel &amp; Friends</td>\n",
       "      <td>Rua José Maria Veloso 8, 3750-156 Águeda</td>\n",
       "      <td>http://aguedahostel.pt/</td>\n",
       "      <td>geral@aguedahostel.pt</td>\n",
       "      <td>234136620.0</td>\n",
       "      <td>NaN</td>\n",
       "      <td>UF Águeda e Borralha</td>\n",
       "    </tr>\n",
       "    <tr>\n",
       "      <th>28</th>\n",
       "      <td>Alojamento local</td>\n",
       "      <td>Quartos</td>\n",
       "      <td>NaN</td>\n",
       "      <td>Blessed Guesthouse</td>\n",
       "      <td>Urbanização Quinta da Borralha 594, 3 ESQ, 375...</td>\n",
       "      <td>NaN</td>\n",
       "      <td>donizetealves83@gmail.com</td>\n",
       "      <td>NaN</td>\n",
       "      <td>NaN</td>\n",
       "      <td>UF Águeda e Borralha</td>\n",
       "    </tr>\n",
       "    <tr>\n",
       "      <th>23</th>\n",
       "      <td>Alojamento local</td>\n",
       "      <td>Apartamento</td>\n",
       "      <td>-</td>\n",
       "      <td>Bloco 3 Alojamento Local</td>\n",
       "      <td>Avenida do Emigrante 981, BL 3 2 DTO, Ninho d ...</td>\n",
       "      <td>NaN</td>\n",
       "      <td>geral.filipe@gmail.com</td>\n",
       "      <td>NaN</td>\n",
       "      <td>NaN</td>\n",
       "      <td>UF Águeda e Borralha</td>\n",
       "    </tr>\n",
       "    <tr>\n",
       "      <th>30</th>\n",
       "      <td>Alojamento local</td>\n",
       "      <td>Moradia</td>\n",
       "      <td>-</td>\n",
       "      <td>Cantinho do Préstimo</td>\n",
       "      <td>Rua da Almunha 245, 3750- Préstimo</td>\n",
       "      <td>NaN</td>\n",
       "      <td>carlasilva550@hotmail.com</td>\n",
       "      <td>913002928.0</td>\n",
       "      <td>NaN</td>\n",
       "      <td>UF Préstimo e Macieira Alcôba</td>\n",
       "    </tr>\n",
       "    <tr>\n",
       "      <th>31</th>\n",
       "      <td>Alojamento local</td>\n",
       "      <td>Moradia</td>\n",
       "      <td>NaN</td>\n",
       "      <td>Casa Magnólia</td>\n",
       "      <td>Rua da Telha 51, Carvoeiro, 3750-603 Macinhata...</td>\n",
       "      <td>NaN</td>\n",
       "      <td>gabrielangelicoalves@gmail.com</td>\n",
       "      <td>NaN</td>\n",
       "      <td>NaN</td>\n",
       "      <td>Macinhata do Vouga</td>\n",
       "    </tr>\n",
       "  </tbody>\n",
       "</table>\n",
       "</div>"
      ],
      "text/plain": [
       "                tipo                              modalidade categoria  \\\n",
       "15  Alojamento local  Estabelecimento de hospedagem - Hostel         -   \n",
       "28  Alojamento local                                 Quartos       NaN   \n",
       "23  Alojamento local                             Apartamento        -    \n",
       "30  Alojamento local                                 Moradia        -    \n",
       "31  Alojamento local                                 Moradia       NaN   \n",
       "\n",
       "                        nome  \\\n",
       "15   Agueda Hostel & Friends   \n",
       "28        Blessed Guesthouse   \n",
       "23  Bloco 3 Alojamento Local   \n",
       "30      Cantinho do Préstimo   \n",
       "31             Casa Magnólia   \n",
       "\n",
       "                                               morada  \\\n",
       "15           Rua José Maria Veloso 8, 3750-156 Águeda   \n",
       "28  Urbanização Quinta da Borralha 594, 3 ESQ, 375...   \n",
       "23  Avenida do Emigrante 981, BL 3 2 DTO, Ninho d ...   \n",
       "30                 Rua da Almunha 245, 3750- Préstimo   \n",
       "31  Rua da Telha 51, Carvoeiro, 3750-603 Macinhata...   \n",
       "\n",
       "                       site                          e_mail     telefone  fax  \\\n",
       "15  http://aguedahostel.pt/           geral@aguedahostel.pt  234136620.0  NaN   \n",
       "28                      NaN       donizetealves83@gmail.com          NaN  NaN   \n",
       "23                      NaN          geral.filipe@gmail.com          NaN  NaN   \n",
       "30                      NaN       carlasilva550@hotmail.com  913002928.0  NaN   \n",
       "31                      NaN  gabrielangelicoalves@gmail.com          NaN  NaN   \n",
       "\n",
       "                        freguesia  \n",
       "15           UF Águeda e Borralha  \n",
       "28           UF Águeda e Borralha  \n",
       "23           UF Águeda e Borralha  \n",
       "30  UF Préstimo e Macieira Alcôba  \n",
       "31             Macinhata do Vouga  "
      ]
     },
     "execution_count": 15,
     "metadata": {},
     "output_type": "execute_result"
    }
   ],
   "source": [
    "#ordenar os nomes por ordem alfabética\n",
    "ordem=alojamentos.sort_values(by='nome')\n",
    "ordem.head()"
   ]
  },
  {
   "cell_type": "markdown",
   "metadata": {},
   "source": [
    "#### Identificar a quais moradias se enquadram na categoria de motel?"
   ]
  },
  {
   "cell_type": "code",
   "execution_count": 16,
   "metadata": {},
   "outputs": [
    {
     "data": {
      "text/html": [
       "<div>\n",
       "<style scoped>\n",
       "    .dataframe tbody tr th:only-of-type {\n",
       "        vertical-align: middle;\n",
       "    }\n",
       "\n",
       "    .dataframe tbody tr th {\n",
       "        vertical-align: top;\n",
       "    }\n",
       "\n",
       "    .dataframe thead th {\n",
       "        text-align: right;\n",
       "    }\n",
       "</style>\n",
       "<table border=\"1\" class=\"dataframe\">\n",
       "  <thead>\n",
       "    <tr style=\"text-align: right;\">\n",
       "      <th></th>\n",
       "      <th>tipo</th>\n",
       "      <th>modalidade</th>\n",
       "      <th>categoria</th>\n",
       "      <th>nome</th>\n",
       "      <th>morada</th>\n",
       "      <th>site</th>\n",
       "      <th>e_mail</th>\n",
       "      <th>telefone</th>\n",
       "      <th>fax</th>\n",
       "      <th>freguesia</th>\n",
       "    </tr>\n",
       "  </thead>\n",
       "  <tbody>\n",
       "    <tr>\n",
       "      <th>0</th>\n",
       "      <td>Empreendimento turístico</td>\n",
       "      <td>Motel</td>\n",
       "      <td>-</td>\n",
       "      <td>Motel Alameda</td>\n",
       "      <td>EN1, Cavada Nova, 3750-604 Macinhata do Vouga</td>\n",
       "      <td>http://www.alameda-hotel.com/pt-pt</td>\n",
       "      <td>hotelalameda@sapo.pt</td>\n",
       "      <td>234523402.0</td>\n",
       "      <td>234523449.0</td>\n",
       "      <td>Macinhata do Vouga</td>\n",
       "    </tr>\n",
       "    <tr>\n",
       "      <th>6</th>\n",
       "      <td>Empreendimento turístico</td>\n",
       "      <td>Motel</td>\n",
       "      <td>-</td>\n",
       "      <td>Motel Primavera</td>\n",
       "      <td>Rua do Vale do Grou 1243, Vale do Grou, 3750- ...</td>\n",
       "      <td>-</td>\n",
       "      <td>-</td>\n",
       "      <td>234666237.0</td>\n",
       "      <td>234666247.0</td>\n",
       "      <td>Aguada de Cima</td>\n",
       "    </tr>\n",
       "  </tbody>\n",
       "</table>\n",
       "</div>"
      ],
      "text/plain": [
       "                       tipo modalidade categoria             nome  \\\n",
       "0  Empreendimento turístico      Motel         -    Motel Alameda   \n",
       "6  Empreendimento turístico      Motel         -  Motel Primavera   \n",
       "\n",
       "                                              morada  \\\n",
       "0      EN1, Cavada Nova, 3750-604 Macinhata do Vouga   \n",
       "6  Rua do Vale do Grou 1243, Vale do Grou, 3750- ...   \n",
       "\n",
       "                                 site                e_mail     telefone  \\\n",
       "0  http://www.alameda-hotel.com/pt-pt  hotelalameda@sapo.pt  234523402.0   \n",
       "6                                   -                     -  234666237.0   \n",
       "\n",
       "           fax           freguesia  \n",
       "0  234523449.0  Macinhata do Vouga  \n",
       "6  234666247.0      Aguada de Cima  "
      ]
     },
     "execution_count": 16,
     "metadata": {},
     "output_type": "execute_result"
    }
   ],
   "source": [
    "# loc identifica uma \"parte/secção\"\n",
    "rslt_alojamentos = alojamentos.loc[(alojamentos['modalidade'] == 'Motel')]\n",
    "rslt_alojamentos"
   ]
  },
  {
   "cell_type": "markdown",
   "metadata": {},
   "source": [
    "#### Localização do Motel Alameda"
   ]
  },
  {
   "cell_type": "code",
   "execution_count": 17,
   "metadata": {},
   "outputs": [
    {
     "data": {
      "image/png": "[encoded data removed]",
      "text/plain": [
       "<Figure size 432x288 with 1 Axes>"
      ]
     },
     "metadata": {
      "needs_background": "light"
     },
     "output_type": "display_data"
    }
   ],
   "source": [
    "%matplotlib inline\n",
    "# visualização da morada do motel \"Motel Alameda\"\n",
    "map_vouga = plt.imread('macinhata-do-vouga.png')\n",
    "imgplot = plt.imshow(map_vouga)"
   ]
  },
  {
   "cell_type": "markdown",
   "metadata": {},
   "source": [
    "## Dados relativos ao atendimentos no posto turistico de Águeda (Turistas portugueses)"
   ]
  },
  {
   "cell_type": "code",
   "execution_count": 18,
   "metadata": {
    "scrolled": true
   },
   "outputs": [
    {
     "name": "stdout",
     "output_type": "stream",
     "text": [
      "2010,3832\n",
      "\n",
      "2011,2601\n",
      "\n",
      "2012,2299\n",
      "\n",
      "2013,3173\n",
      "\n",
      "2014,4560\n",
      "\n",
      "2015,5592\n",
      "\n",
      "2016,5504\n",
      "\n",
      "2017,5170\n",
      "\n",
      "2018,28122\n",
      "\n",
      "2019,26580\n",
      "\n",
      "2020,10015\n",
      "\n",
      "\n",
      "\n",
      "\n",
      "\n"
     ]
    }
   ],
   "source": [
    "#csv mudificado pelo grupo assim premite a sua observação como objeto\n",
    "with open (\"Ano atendimento.csv\") as f:\n",
    "    f.readline() \n",
    "    for line in f: \n",
    "        print(line)"
   ]
  },
  {
   "cell_type": "code",
   "execution_count": 19,
   "metadata": {
    "scrolled": true
   },
   "outputs": [
    {
     "data": {
      "text/html": [
       "<div>\n",
       "<style scoped>\n",
       "    .dataframe tbody tr th:only-of-type {\n",
       "        vertical-align: middle;\n",
       "    }\n",
       "\n",
       "    .dataframe tbody tr th {\n",
       "        vertical-align: top;\n",
       "    }\n",
       "\n",
       "    .dataframe thead th {\n",
       "        text-align: right;\n",
       "    }\n",
       "</style>\n",
       "<table border=\"1\" class=\"dataframe\">\n",
       "  <thead>\n",
       "    <tr style=\"text-align: right;\">\n",
       "      <th></th>\n",
       "      <th>ano</th>\n",
       "      <th>atendimentos</th>\n",
       "    </tr>\n",
       "  </thead>\n",
       "  <tbody>\n",
       "    <tr>\n",
       "      <th>0</th>\n",
       "      <td>2010</td>\n",
       "      <td>3832</td>\n",
       "    </tr>\n",
       "    <tr>\n",
       "      <th>1</th>\n",
       "      <td>2011</td>\n",
       "      <td>2601</td>\n",
       "    </tr>\n",
       "    <tr>\n",
       "      <th>2</th>\n",
       "      <td>2012</td>\n",
       "      <td>2299</td>\n",
       "    </tr>\n",
       "    <tr>\n",
       "      <th>3</th>\n",
       "      <td>2013</td>\n",
       "      <td>3173</td>\n",
       "    </tr>\n",
       "    <tr>\n",
       "      <th>4</th>\n",
       "      <td>2014</td>\n",
       "      <td>4560</td>\n",
       "    </tr>\n",
       "    <tr>\n",
       "      <th>5</th>\n",
       "      <td>2015</td>\n",
       "      <td>5592</td>\n",
       "    </tr>\n",
       "    <tr>\n",
       "      <th>6</th>\n",
       "      <td>2016</td>\n",
       "      <td>5504</td>\n",
       "    </tr>\n",
       "    <tr>\n",
       "      <th>7</th>\n",
       "      <td>2017</td>\n",
       "      <td>5170</td>\n",
       "    </tr>\n",
       "    <tr>\n",
       "      <th>8</th>\n",
       "      <td>2018</td>\n",
       "      <td>28122</td>\n",
       "    </tr>\n",
       "    <tr>\n",
       "      <th>9</th>\n",
       "      <td>2019</td>\n",
       "      <td>26580</td>\n",
       "    </tr>\n",
       "    <tr>\n",
       "      <th>10</th>\n",
       "      <td>2020</td>\n",
       "      <td>10015</td>\n",
       "    </tr>\n",
       "  </tbody>\n",
       "</table>\n",
       "</div>"
      ],
      "text/plain": [
       "     ano  atendimentos\n",
       "0   2010          3832\n",
       "1   2011          2601\n",
       "2   2012          2299\n",
       "3   2013          3173\n",
       "4   2014          4560\n",
       "5   2015          5592\n",
       "6   2016          5504\n",
       "7   2017          5170\n",
       "8   2018         28122\n",
       "9   2019         26580\n",
       "10  2020         10015"
      ]
     },
     "execution_count": 19,
     "metadata": {},
     "output_type": "execute_result"
    }
   ],
   "source": [
    "#dados trasformados devido má construção dos mesmos\n",
    "atendimentos= pd.read_csv(\"Ano atendimento.csv\")\n",
    "atendimentos"
   ]
  },
  {
   "cell_type": "markdown",
   "metadata": {},
   "source": [
    "#### Total de atendimentos durante 10 anos"
   ]
  },
  {
   "cell_type": "code",
   "execution_count": 20,
   "metadata": {},
   "outputs": [
    {
     "name": "stdout",
     "output_type": "stream",
     "text": [
      "Total de atendimentos durante 10 anos: 97448\n"
     ]
    }
   ],
   "source": [
    "#sum é a soma dos 10 anos de atendimentos\n",
    "at_10=atendimentos[\"atendimentos\"].sum()\n",
    "print (\"Total de atendimentos durante 10 anos:\",at_10)"
   ]
  },
  {
   "cell_type": "markdown",
   "metadata": {},
   "source": [
    "#### Média de atendimento durante 10 anos"
   ]
  },
  {
   "cell_type": "code",
   "execution_count": 21,
   "metadata": {},
   "outputs": [
    {
     "name": "stdout",
     "output_type": "stream",
     "text": [
      "Média dos atendimentos durante 10 anos: 8858.90909090909\n"
     ]
    }
   ],
   "source": [
    "#media de atendimento durente os 10 anos (mean=media)\n",
    "media_at=atendimentos[\"atendimentos\"].mean()\n",
    "print (\"Média dos atendimentos durante 10 anos:\",media_at)"
   ]
  },
  {
   "cell_type": "markdown",
   "metadata": {},
   "source": [
    "#### Últimos 2 anos de atendimento"
   ]
  },
  {
   "cell_type": "code",
   "execution_count": 22,
   "metadata": {},
   "outputs": [
    {
     "data": {
      "text/html": [
       "<div>\n",
       "<style scoped>\n",
       "    .dataframe tbody tr th:only-of-type {\n",
       "        vertical-align: middle;\n",
       "    }\n",
       "\n",
       "    .dataframe tbody tr th {\n",
       "        vertical-align: top;\n",
       "    }\n",
       "\n",
       "    .dataframe thead th {\n",
       "        text-align: right;\n",
       "    }\n",
       "</style>\n",
       "<table border=\"1\" class=\"dataframe\">\n",
       "  <thead>\n",
       "    <tr style=\"text-align: right;\">\n",
       "      <th></th>\n",
       "      <th>ano</th>\n",
       "      <th>atendimentos</th>\n",
       "    </tr>\n",
       "  </thead>\n",
       "  <tbody>\n",
       "    <tr>\n",
       "      <th>9</th>\n",
       "      <td>2019</td>\n",
       "      <td>26580</td>\n",
       "    </tr>\n",
       "    <tr>\n",
       "      <th>10</th>\n",
       "      <td>2020</td>\n",
       "      <td>10015</td>\n",
       "    </tr>\n",
       "  </tbody>\n",
       "</table>\n",
       "</div>"
      ],
      "text/plain": [
       "     ano  atendimentos\n",
       "9   2019         26580\n",
       "10  2020         10015"
      ]
     },
     "execution_count": 22,
     "metadata": {},
     "output_type": "execute_result"
    }
   ],
   "source": [
    "#ver as 2 ultimas linhas podemos ver ultimos 2 anos\n",
    "ultimos_anos=atendimentos[9:] # nomear todos os dados\n",
    "ultimos_anos"
   ]
  },
  {
   "cell_type": "markdown",
   "metadata": {},
   "source": [
    "#### Gráfico representando atendimentos durante 10 anos"
   ]
  },
  {
   "cell_type": "code",
   "execution_count": 23,
   "metadata": {},
   "outputs": [
    {
     "data": {
      "image/png": "[encoded data removed]",
      "text/plain": [
       "<Figure size 720x576 with 1 Axes>"
      ]
     },
     "metadata": {
      "needs_background": "light"
     },
     "output_type": "display_data"
    }
   ],
   "source": [
    "%matplotlib inline\n",
    "#ano = df [\"Ano\"].tolist()\n",
    "#monthList  = df [\"Nº atendimentos\"].tolist()\n",
    "plt.plot(atendimentos[\"ano\"], atendimentos[\"atendimentos\"], label = 'Atendimentos por ano')\n",
    "plt.xlabel('Ano') # nomear x\n",
    "plt.ylabel('Nº tendimentos')  # nomear y\n",
    "plt.xticks(atendimentos[\"ano\"]) # defenir x\n",
    "plt.title('Atendimentos posto de Turismo') # defenir titulo\n",
    "plt.yticks(atendimentos[\"atendimentos\"]) # # defenir y\n",
    "plt.gcf().set_size_inches(10, 8) # defenir tamanho do grafio\n",
    "g_at=plt.show() #mostrar gráfico \n",
    "g_at"
   ]
  },
  {
   "cell_type": "markdown",
   "metadata": {},
   "source": [
    "## Dados relativos á ocupação de 4 hoteis "
   ]
  },
  {
   "cell_type": "code",
   "execution_count": 24,
   "metadata": {},
   "outputs": [
    {
     "data": {
      "text/html": [
       "<div>\n",
       "<style scoped>\n",
       "    .dataframe tbody tr th:only-of-type {\n",
       "        vertical-align: middle;\n",
       "    }\n",
       "\n",
       "    .dataframe tbody tr th {\n",
       "        vertical-align: top;\n",
       "    }\n",
       "\n",
       "    .dataframe thead th {\n",
       "        text-align: right;\n",
       "    }\n",
       "</style>\n",
       "<table border=\"1\" class=\"dataframe\">\n",
       "  <thead>\n",
       "    <tr style=\"text-align: right;\">\n",
       "      <th></th>\n",
       "      <th>Classificacao</th>\n",
       "      <th>Categoria</th>\n",
       "      <th>NrEstabelecimento</th>\n",
       "      <th>Tx_Ocup_Cama</th>\n",
       "      <th>Tx_Ocup_Quarto</th>\n",
       "    </tr>\n",
       "  </thead>\n",
       "  <tbody>\n",
       "    <tr>\n",
       "      <th>0</th>\n",
       "      <td>HOTEL</td>\n",
       "      <td>5 Estrelas</td>\n",
       "      <td>24</td>\n",
       "      <td>77.17</td>\n",
       "      <td>82.51</td>\n",
       "    </tr>\n",
       "    <tr>\n",
       "      <th>1</th>\n",
       "      <td>HOTEL</td>\n",
       "      <td>4 Estrelas</td>\n",
       "      <td>65</td>\n",
       "      <td>85.17</td>\n",
       "      <td>92.02</td>\n",
       "    </tr>\n",
       "    <tr>\n",
       "      <th>2</th>\n",
       "      <td>HOTEL</td>\n",
       "      <td>3 Estrelas</td>\n",
       "      <td>40</td>\n",
       "      <td>85.88</td>\n",
       "      <td>92.22</td>\n",
       "    </tr>\n",
       "    <tr>\n",
       "      <th>3</th>\n",
       "      <td>HOTEL-APARTAMENTO</td>\n",
       "      <td>NaN</td>\n",
       "      <td>6</td>\n",
       "      <td>85.21</td>\n",
       "      <td>92.56</td>\n",
       "    </tr>\n",
       "  </tbody>\n",
       "</table>\n",
       "</div>"
      ],
      "text/plain": [
       "       Classificacao   Categoria  NrEstabelecimento  Tx_Ocup_Cama  \\\n",
       "0              HOTEL  5 Estrelas                 24         77.17   \n",
       "1              HOTEL  4 Estrelas                 65         85.17   \n",
       "2              HOTEL  3 Estrelas                 40         85.88   \n",
       "3  HOTEL-APARTAMENTO         NaN                  6         85.21   \n",
       "\n",
       "   Tx_Ocup_Quarto  \n",
       "0           82.51  \n",
       "1           92.02  \n",
       "2           92.22  \n",
       "3           92.56  "
      ]
     },
     "execution_count": 24,
     "metadata": {},
     "output_type": "execute_result"
    }
   ],
   "source": [
    "ocupação= pd.read_json(\"list_Ocupacao.json\")\n",
    "#json- listas dentro de listas\n",
    "ocupação"
   ]
  },
  {
   "cell_type": "markdown",
   "metadata": {},
   "source": [
    "#### Subtituição dos valores nulos por 0"
   ]
  },
  {
   "cell_type": "code",
   "execution_count": 25,
   "metadata": {},
   "outputs": [
    {
     "data": {
      "text/html": [
       "<div>\n",
       "<style scoped>\n",
       "    .dataframe tbody tr th:only-of-type {\n",
       "        vertical-align: middle;\n",
       "    }\n",
       "\n",
       "    .dataframe tbody tr th {\n",
       "        vertical-align: top;\n",
       "    }\n",
       "\n",
       "    .dataframe thead th {\n",
       "        text-align: right;\n",
       "    }\n",
       "</style>\n",
       "<table border=\"1\" class=\"dataframe\">\n",
       "  <thead>\n",
       "    <tr style=\"text-align: right;\">\n",
       "      <th></th>\n",
       "      <th>Classificacao</th>\n",
       "      <th>Categoria</th>\n",
       "      <th>NrEstabelecimento</th>\n",
       "      <th>Tx_Ocup_Cama</th>\n",
       "      <th>Tx_Ocup_Quarto</th>\n",
       "    </tr>\n",
       "  </thead>\n",
       "  <tbody>\n",
       "    <tr>\n",
       "      <th>0</th>\n",
       "      <td>HOTEL</td>\n",
       "      <td>5 Estrelas</td>\n",
       "      <td>24</td>\n",
       "      <td>77.17</td>\n",
       "      <td>82.51</td>\n",
       "    </tr>\n",
       "    <tr>\n",
       "      <th>1</th>\n",
       "      <td>HOTEL</td>\n",
       "      <td>4 Estrelas</td>\n",
       "      <td>65</td>\n",
       "      <td>85.17</td>\n",
       "      <td>92.02</td>\n",
       "    </tr>\n",
       "    <tr>\n",
       "      <th>2</th>\n",
       "      <td>HOTEL</td>\n",
       "      <td>3 Estrelas</td>\n",
       "      <td>40</td>\n",
       "      <td>85.88</td>\n",
       "      <td>92.22</td>\n",
       "    </tr>\n",
       "    <tr>\n",
       "      <th>3</th>\n",
       "      <td>HOTEL-APARTAMENTO</td>\n",
       "      <td>0</td>\n",
       "      <td>6</td>\n",
       "      <td>85.21</td>\n",
       "      <td>92.56</td>\n",
       "    </tr>\n",
       "  </tbody>\n",
       "</table>\n",
       "</div>"
      ],
      "text/plain": [
       "       Classificacao   Categoria  NrEstabelecimento  Tx_Ocup_Cama  \\\n",
       "0              HOTEL  5 Estrelas                 24         77.17   \n",
       "1              HOTEL  4 Estrelas                 65         85.17   \n",
       "2              HOTEL  3 Estrelas                 40         85.88   \n",
       "3  HOTEL-APARTAMENTO           0                  6         85.21   \n",
       "\n",
       "   Tx_Ocup_Quarto  \n",
       "0           82.51  \n",
       "1           92.02  \n",
       "2           92.22  \n",
       "3           92.56  "
      ]
     },
     "execution_count": 25,
     "metadata": {},
     "output_type": "execute_result"
    }
   ],
   "source": [
    "categoria = ocupação.fillna(0) # .fillna vai subtuir os dados em falta pelo numero entre ()\n",
    "categoria"
   ]
  },
  {
   "cell_type": "markdown",
   "metadata": {},
   "source": [
    "#### Soma do número de quartos/camas ocupados?"
   ]
  },
  {
   "cell_type": "code",
   "execution_count": 26,
   "metadata": {},
   "outputs": [
    {
     "name": "stdout",
     "output_type": "stream",
     "text": [
      "Soma da ocupação de quartos: 359.31\n",
      "Soma da ocupação de camas: 333.43\n"
     ]
    }
   ],
   "source": [
    "soma_quatos=ocupação[\"Tx_Ocup_Quarto\"].sum()\n",
    "#somas da ocupação de quartos\n",
    "soma_camas=ocupação[\"Tx_Ocup_Cama\"].sum()\n",
    "#somas da ocupação de camas\n",
    "print (\"Soma da ocupação de quartos:\",soma_quatos) #print para poder utilizar a frase\n",
    "print (\"Soma da ocupação de camas:\",soma_camas)"
   ]
  },
  {
   "cell_type": "markdown",
   "metadata": {},
   "source": [
    "#### Especificações do hotel com 3 estrelas?"
   ]
  },
  {
   "cell_type": "code",
   "execution_count": 27,
   "metadata": {
    "scrolled": true
   },
   "outputs": [
    {
     "data": {
      "text/plain": [
       "Classificacao             HOTEL\n",
       "Categoria            3 Estrelas\n",
       "NrEstabelecimento            40\n",
       "Tx_Ocup_Cama              85.88\n",
       "Tx_Ocup_Quarto            92.22\n",
       "Name: 2, dtype: object"
      ]
     },
     "execution_count": 27,
     "metadata": {},
     "output_type": "execute_result"
    }
   ],
   "source": [
    "estrelas_3=ocupação.loc [2]\n",
    "# mostra linha 2 de maneira mais especifica\n",
    "estrelas_3.head()"
   ]
  },
  {
   "cell_type": "markdown",
   "metadata": {},
   "source": [
    "#### Descrição da tabela \"Ocupação\""
   ]
  },
  {
   "cell_type": "code",
   "execution_count": 28,
   "metadata": {},
   "outputs": [
    {
     "data": {
      "text/html": [
       "<div>\n",
       "<style scoped>\n",
       "    .dataframe tbody tr th:only-of-type {\n",
       "        vertical-align: middle;\n",
       "    }\n",
       "\n",
       "    .dataframe tbody tr th {\n",
       "        vertical-align: top;\n",
       "    }\n",
       "\n",
       "    .dataframe thead th {\n",
       "        text-align: right;\n",
       "    }\n",
       "</style>\n",
       "<table border=\"1\" class=\"dataframe\">\n",
       "  <thead>\n",
       "    <tr style=\"text-align: right;\">\n",
       "      <th></th>\n",
       "      <th>NrEstabelecimento</th>\n",
       "      <th>Tx_Ocup_Cama</th>\n",
       "      <th>Tx_Ocup_Quarto</th>\n",
       "    </tr>\n",
       "  </thead>\n",
       "  <tbody>\n",
       "    <tr>\n",
       "      <th>count</th>\n",
       "      <td>4.000000</td>\n",
       "      <td>4.000000</td>\n",
       "      <td>4.000000</td>\n",
       "    </tr>\n",
       "    <tr>\n",
       "      <th>mean</th>\n",
       "      <td>33.750000</td>\n",
       "      <td>83.357500</td>\n",
       "      <td>89.827500</td>\n",
       "    </tr>\n",
       "    <tr>\n",
       "      <th>std</th>\n",
       "      <td>25.038304</td>\n",
       "      <td>4.137837</td>\n",
       "      <td>4.883423</td>\n",
       "    </tr>\n",
       "    <tr>\n",
       "      <th>min</th>\n",
       "      <td>6.000000</td>\n",
       "      <td>77.170000</td>\n",
       "      <td>82.510000</td>\n",
       "    </tr>\n",
       "    <tr>\n",
       "      <th>25%</th>\n",
       "      <td>19.500000</td>\n",
       "      <td>83.170000</td>\n",
       "      <td>89.642500</td>\n",
       "    </tr>\n",
       "    <tr>\n",
       "      <th>50%</th>\n",
       "      <td>32.000000</td>\n",
       "      <td>85.190000</td>\n",
       "      <td>92.120000</td>\n",
       "    </tr>\n",
       "    <tr>\n",
       "      <th>75%</th>\n",
       "      <td>46.250000</td>\n",
       "      <td>85.377500</td>\n",
       "      <td>92.305000</td>\n",
       "    </tr>\n",
       "    <tr>\n",
       "      <th>max</th>\n",
       "      <td>65.000000</td>\n",
       "      <td>85.880000</td>\n",
       "      <td>92.560000</td>\n",
       "    </tr>\n",
       "  </tbody>\n",
       "</table>\n",
       "</div>"
      ],
      "text/plain": [
       "       NrEstabelecimento  Tx_Ocup_Cama  Tx_Ocup_Quarto\n",
       "count           4.000000      4.000000        4.000000\n",
       "mean           33.750000     83.357500       89.827500\n",
       "std            25.038304      4.137837        4.883423\n",
       "min             6.000000     77.170000       82.510000\n",
       "25%            19.500000     83.170000       89.642500\n",
       "50%            32.000000     85.190000       92.120000\n",
       "75%            46.250000     85.377500       92.305000\n",
       "max            65.000000     85.880000       92.560000"
      ]
     },
     "execution_count": 28,
     "metadata": {},
     "output_type": "execute_result"
    }
   ],
   "source": [
    "d_ocp=ocupação.describe()\n",
    "#descritção de toda a tabela\n",
    "d_ocp"
   ]
  },
  {
   "cell_type": "markdown",
   "metadata": {},
   "source": [
    "## Dados relativos à cidade Lisboa no ano de 2015 mostrando o gasto médio diário individual (sem trasporte)\n",
    "Inquérito motivacional cidade Lisboa - 1393 hóspedes na hotelaria de Lisboa"
   ]
  },
  {
   "cell_type": "code",
   "execution_count": 29,
   "metadata": {},
   "outputs": [
    {
     "data": {
      "text/html": [
       "<div>\n",
       "<style scoped>\n",
       "    .dataframe tbody tr th:only-of-type {\n",
       "        vertical-align: middle;\n",
       "    }\n",
       "\n",
       "    .dataframe tbody tr th {\n",
       "        vertical-align: top;\n",
       "    }\n",
       "\n",
       "    .dataframe thead th {\n",
       "        text-align: right;\n",
       "    }\n",
       "</style>\n",
       "<table border=\"1\" class=\"dataframe\">\n",
       "  <thead>\n",
       "    <tr style=\"text-align: right;\">\n",
       "      <th></th>\n",
       "      <th>Tipo</th>\n",
       "      <th>Lazer</th>\n",
       "      <th>Negócios</th>\n",
       "      <th>Total</th>\n",
       "    </tr>\n",
       "  </thead>\n",
       "  <tbody>\n",
       "    <tr>\n",
       "      <th>0</th>\n",
       "      <td>Alojamento</td>\n",
       "      <td>53.16</td>\n",
       "      <td>74.76</td>\n",
       "      <td>57.78</td>\n",
       "    </tr>\n",
       "    <tr>\n",
       "      <th>1</th>\n",
       "      <td>Alimentação</td>\n",
       "      <td>32.52</td>\n",
       "      <td>40.16</td>\n",
       "      <td>33.50</td>\n",
       "    </tr>\n",
       "    <tr>\n",
       "      <th>2</th>\n",
       "      <td>Atracções</td>\n",
       "      <td>7.89</td>\n",
       "      <td>1.18</td>\n",
       "      <td>6.41</td>\n",
       "    </tr>\n",
       "    <tr>\n",
       "      <th>3</th>\n",
       "      <td>Deslocações</td>\n",
       "      <td>5.86</td>\n",
       "      <td>10.83</td>\n",
       "      <td>6.62</td>\n",
       "    </tr>\n",
       "    <tr>\n",
       "      <th>4</th>\n",
       "      <td>Outros</td>\n",
       "      <td>21.73</td>\n",
       "      <td>27.52</td>\n",
       "      <td>23.13</td>\n",
       "    </tr>\n",
       "    <tr>\n",
       "      <th>5</th>\n",
       "      <td>Global</td>\n",
       "      <td>121.17</td>\n",
       "      <td>154.46</td>\n",
       "      <td>127.43</td>\n",
       "    </tr>\n",
       "  </tbody>\n",
       "</table>\n",
       "</div>"
      ],
      "text/plain": [
       "          Tipo   Lazer  Negócios   Total\n",
       "0   Alojamento   53.16     74.76   57.78\n",
       "1  Alimentação   32.52     40.16   33.50\n",
       "2    Atracções    7.89      1.18    6.41\n",
       "3  Deslocações    5.86     10.83    6.62\n",
       "4       Outros   21.73     27.52   23.13\n",
       "5       Global  121.17    154.46  127.43"
      ]
     },
     "execution_count": 29,
     "metadata": {},
     "output_type": "execute_result"
    }
   ],
   "source": [
    "preços_1 = [[\"Alojamento\",53.16,74.76,57.78], [\"Alimentação\",32.52,40.16,33.50], [\"Atracções\",7.89,1.18,6.41],\n",
    "            [\"Deslocações\",5.86,10.83,6.62], [\"Outros\",21.73,27.52,23.13], [\"Global\",121.17,154.46,127.43]]\n",
    "#defenir dados \n",
    "pd.DataFrame(preços_1, columns=[\"Tipo\",\"Lazer\",\"Negócios\",\"Total\"]) # defenir colunas\n",
    "#criação de tabela com dados que não apresentavam qualidade para utilizão"
   ]
  },
  {
   "cell_type": "markdown",
   "metadata": {},
   "source": [
    "#### Gráfico diferença de preços entre Lazer e Negócio"
   ]
  },
  {
   "cell_type": "code",
   "execution_count": 30,
   "metadata": {},
   "outputs": [
    {
     "data": {
      "image/png": "[encoded data removed]",
      "text/plain": [
       "<Figure size 1080x576 with 1 Axes>"
      ]
     },
     "metadata": {
      "needs_background": "light"
     },
     "output_type": "display_data"
    }
   ],
   "source": [
    "x = [\"AlojamentoL\",\"AlimentaçãoL\",\"AtraçõesL\",\"DeslocaçõesL\",\"OutrosL\"]\n",
    "y = [53.16,32.52,7.89,5.86,21.73]\n",
    "x2 = [\"AlojamentoN\",\"AlimentaçãoN\",\"AtraçõesN\",\"DeslocaçõesN\",\"OutrosN\"]\n",
    "y2 = [74.76,40.16,1.18,10.83,27.52]\n",
    "# Exposição dos dados\n",
    "# Criar gráfico\n",
    "plt.gcf().set_size_inches(15, 8) #mudar dimensões do gráfico\n",
    "plt.bar(x, y, label = 'Lazer', color = 'r') # defenir legenda e cor da barra\n",
    "plt.bar(x2, y2, label = 'Negócios', color = 'y')\n",
    "plt.legend() \n",
    "gra_preços=plt.show() # nomear todos o exercicios\n",
    "gra_preços"
   ]
  },
  {
   "cell_type": "markdown",
   "metadata": {},
   "source": [
    "#### Gráfico Global"
   ]
  },
  {
   "cell_type": "code",
   "execution_count": 31,
   "metadata": {},
   "outputs": [
    {
     "data": {
      "image/png": "[encoded data removed]",
      "text/plain": [
       "<Figure size 432x288 with 1 Axes>"
      ]
     },
     "metadata": {
      "needs_background": "light"
     },
     "output_type": "display_data"
    }
   ],
   "source": [
    "x = [\"Lazer\"]\n",
    "y = 121.17\n",
    "x2 = [\"Negócio\"]\n",
    "y2 = 154.46\n",
    "x3 = [\"Total\"]\n",
    "y3 = 127.43\n",
    "plt.bar(x, y, color = 'r') # defenir dados da barra e cor\n",
    "plt.bar(x2, y2, color = 'y')\n",
    "plt.bar(x3, y3, color = 'g')\n",
    "plt.annotate(\"Maior valor\", # adicionar anotação ao gráfico\n",
    "            xy=(x2,y2),  # defenir locar que anotação indica\n",
    "            xytext=(3, 10), # defenir localização da anotação\n",
    "            arrowprops=dict(arrowstyle=\"->\",connectionstyle=\"arc3\")) # selecionar tipo de indicação\n",
    "global_1= plt.show()\n",
    "global_1"
   ]
  },
  {
   "cell_type": "markdown",
   "metadata": {},
   "source": [
    "#### Gráfico total de todos os dados"
   ]
  },
  {
   "cell_type": "code",
   "execution_count": 32,
   "metadata": {
    "scrolled": false
   },
   "outputs": [
    {
     "data": {
      "image/png": "[encoded data removed]",
      "text/plain": [
       "<Figure size 432x288 with 1 Axes>"
      ]
     },
     "metadata": {},
     "output_type": "display_data"
    }
   ],
   "source": [
    "%matplotlib inline\n",
    "labels = ['Lazer', 'Negócios', 'Total']\n",
    "#preçosData= [preços_1['Lazer'].sum(), preços_1['Negócios'].sum(), preços_1['Total'].sum()]\n",
    "preçosData= [242.33, 309.53, 254.87] # realização da conta exterior \n",
    "plt.axis(\"equal\") #define uma escala igual\n",
    "plt.pie(preçosData, labels=labels, autopct='%1.1f%%',shadow=True, radius =1.6) # pie= gráfico formato \"tarte\" \n",
    "# autopct tem a função de apresentar as percentagens (%) das partes\n",
    "# a função shadow cria uma sombra no gráfico\n",
    "# por defenição o radius (raio) é 1\n",
    "plt.legend(loc='lower right',bbox_to_anchor=(1.2,-0.1)) #localização da legenda\n",
    "plt.title('Preços',pad= 73) # pad vai mexer com a localição do titulo para a parte superior\n",
    "total=plt.show() \n",
    "total"
   ]
  },
  {
   "cell_type": "markdown",
   "metadata": {},
   "source": [
    "## Dados relativos aos lugares públicos turisticos\n",
    "Os presentes dados não se enquadram na região de Potugal, no entanto o grupo achou que os dados seriam necessarios para a realização de exercicios."
   ]
  },
  {
   "cell_type": "code",
   "execution_count": 33,
   "metadata": {
    "scrolled": true
   },
   "outputs": [
    {
     "data": {
      "text/html": [
       "<div>\n",
       "<style scoped>\n",
       "    .dataframe tbody tr th:only-of-type {\n",
       "        vertical-align: middle;\n",
       "    }\n",
       "\n",
       "    .dataframe tbody tr th {\n",
       "        vertical-align: top;\n",
       "    }\n",
       "\n",
       "    .dataframe thead th {\n",
       "        text-align: right;\n",
       "    }\n",
       "</style>\n",
       "<table border=\"1\" class=\"dataframe\">\n",
       "  <thead>\n",
       "    <tr style=\"text-align: right;\">\n",
       "      <th></th>\n",
       "      <th>LT01</th>\n",
       "      <th>Nome</th>\n",
       "      <th>Tipo</th>\n",
       "      <th>TipoLugar</th>\n",
       "      <th>Pais</th>\n",
       "      <th>Provincia</th>\n",
       "      <th>Ciudad</th>\n",
       "      <th>Punto de Localización</th>\n",
       "      <th>Latitude</th>\n",
       "      <th>Longitude</th>\n",
       "    </tr>\n",
       "  </thead>\n",
       "  <tbody>\n",
       "    <tr>\n",
       "      <th>0</th>\n",
       "      <td>LT02</td>\n",
       "      <td>Río Santa Bárbara</td>\n",
       "      <td>LugaresTuristicos</td>\n",
       "      <td>Rio</td>\n",
       "      <td>Ecuador</td>\n",
       "      <td>Azuay</td>\n",
       "      <td>Gualaceo</td>\n",
       "      <td>Se ubica  en el Cantón de Gulaceo</td>\n",
       "      <td>-29.047956</td>\n",
       "      <td>-78.778787</td>\n",
       "    </tr>\n",
       "    <tr>\n",
       "      <th>1</th>\n",
       "      <td>LT03</td>\n",
       "      <td>Represa de Paute</td>\n",
       "      <td>LugaresTuristicos</td>\n",
       "      <td>Represa</td>\n",
       "      <td>Ecuador</td>\n",
       "      <td>Azuay</td>\n",
       "      <td>Cuenca</td>\n",
       "      <td>NaN</td>\n",
       "      <td>-2.586111</td>\n",
       "      <td>-78.558333</td>\n",
       "    </tr>\n",
       "    <tr>\n",
       "      <th>2</th>\n",
       "      <td>LT04</td>\n",
       "      <td>El Turi</td>\n",
       "      <td>LugaresTuristicos</td>\n",
       "      <td>Iglesia</td>\n",
       "      <td>Ecuador</td>\n",
       "      <td>Azuay</td>\n",
       "      <td>Cuenca</td>\n",
       "      <td>NaN</td>\n",
       "      <td>-2.922357</td>\n",
       "      <td>-79.0103607</td>\n",
       "    </tr>\n",
       "    <tr>\n",
       "      <th>3</th>\n",
       "      <td>LT05</td>\n",
       "      <td>Cascada Irha</td>\n",
       "      <td>LugaresTuristicos</td>\n",
       "      <td>Casacada</td>\n",
       "      <td>Ecuador</td>\n",
       "      <td>Azuay</td>\n",
       "      <td>Cuenca</td>\n",
       "      <td>Se encuentra ubicado a 5 km del cantón Girón e...</td>\n",
       "      <td>NaN</td>\n",
       "      <td>NaN</td>\n",
       "    </tr>\n",
       "    <tr>\n",
       "      <th>4</th>\n",
       "      <td>LT06</td>\n",
       "      <td>Parque Nacional Cajas</td>\n",
       "      <td>LugaresTuristicos</td>\n",
       "      <td>Parque</td>\n",
       "      <td>Ecuador</td>\n",
       "      <td>Azuay</td>\n",
       "      <td>Cuenca</td>\n",
       "      <td>NaN</td>\n",
       "      <td>-2.848737</td>\n",
       "      <td>-79.2537609</td>\n",
       "    </tr>\n",
       "  </tbody>\n",
       "</table>\n",
       "</div>"
      ],
      "text/plain": [
       "   LT01                   Nome               Tipo TipoLugar     Pais  \\\n",
       "0  LT02      Río Santa Bárbara  LugaresTuristicos       Rio  Ecuador   \n",
       "1  LT03       Represa de Paute  LugaresTuristicos   Represa  Ecuador   \n",
       "2  LT04                El Turi  LugaresTuristicos   Iglesia  Ecuador   \n",
       "3  LT05           Cascada Irha  LugaresTuristicos  Casacada  Ecuador   \n",
       "4  LT06  Parque Nacional Cajas  LugaresTuristicos    Parque  Ecuador   \n",
       "\n",
       "  Provincia    Ciudad                              Punto de Localización  \\\n",
       "0     Azuay  Gualaceo                  Se ubica  en el Cantón de Gulaceo   \n",
       "1     Azuay    Cuenca                                                NaN   \n",
       "2     Azuay    Cuenca                                                NaN   \n",
       "3     Azuay    Cuenca  Se encuentra ubicado a 5 km del cantón Girón e...   \n",
       "4     Azuay    Cuenca                                                NaN   \n",
       "\n",
       "    Latitude    Longitude  \n",
       "0 -29.047956   -78.778787  \n",
       "1  -2.586111   -78.558333  \n",
       "2  -2.922357  -79.0103607  \n",
       "3        NaN          NaN  \n",
       "4  -2.848737  -79.2537609  "
      ]
     },
     "execution_count": 33,
     "metadata": {},
     "output_type": "execute_result"
    }
   ],
   "source": [
    "at = pd.read_csv(\"dataset-lugares-publicos-lugares-turisticos.csv\")\n",
    "renomeação_at=at.rename(columns={\"Nombre\":\"Nome\",'Latitud':'Latitude',\"Longuitud\":\"Longitude\"})\n",
    "# renomeação das colunas devido a serem nomes estrangueiros\n",
    "renomeação_at.head()"
   ]
  },
  {
   "cell_type": "markdown",
   "metadata": {},
   "source": [
    "#### Renomeação das colunas das cordenadas e mostrar importantes"
   ]
  },
  {
   "cell_type": "code",
   "execution_count": 34,
   "metadata": {},
   "outputs": [
    {
     "data": {
      "text/html": [
       "<div>\n",
       "<style scoped>\n",
       "    .dataframe tbody tr th:only-of-type {\n",
       "        vertical-align: middle;\n",
       "    }\n",
       "\n",
       "    .dataframe tbody tr th {\n",
       "        vertical-align: top;\n",
       "    }\n",
       "\n",
       "    .dataframe thead th {\n",
       "        text-align: right;\n",
       "    }\n",
       "</style>\n",
       "<table border=\"1\" class=\"dataframe\">\n",
       "  <thead>\n",
       "    <tr style=\"text-align: right;\">\n",
       "      <th></th>\n",
       "      <th>Latitude</th>\n",
       "      <th>Longitude</th>\n",
       "    </tr>\n",
       "  </thead>\n",
       "  <tbody>\n",
       "    <tr>\n",
       "      <th>0</th>\n",
       "      <td>-29.047956</td>\n",
       "      <td>-78.778787</td>\n",
       "    </tr>\n",
       "    <tr>\n",
       "      <th>1</th>\n",
       "      <td>-2.586111</td>\n",
       "      <td>-78.558333</td>\n",
       "    </tr>\n",
       "    <tr>\n",
       "      <th>2</th>\n",
       "      <td>-2.922357</td>\n",
       "      <td>-79.0103607</td>\n",
       "    </tr>\n",
       "    <tr>\n",
       "      <th>3</th>\n",
       "      <td>NaN</td>\n",
       "      <td>NaN</td>\n",
       "    </tr>\n",
       "    <tr>\n",
       "      <th>4</th>\n",
       "      <td>-2.848737</td>\n",
       "      <td>-79.2537609</td>\n",
       "    </tr>\n",
       "  </tbody>\n",
       "</table>\n",
       "</div>"
      ],
      "text/plain": [
       "    Latitude    Longitude\n",
       "0 -29.047956   -78.778787\n",
       "1  -2.586111   -78.558333\n",
       "2  -2.922357  -79.0103607\n",
       "3        NaN          NaN\n",
       "4  -2.848737  -79.2537609"
      ]
     },
     "execution_count": 34,
     "metadata": {},
     "output_type": "execute_result"
    }
   ],
   "source": [
    "coordenadas = renomeação_at.loc[:,\"Latitude\":\"Longitude\"] # mostrar apenas as colunas que precisamos\n",
    "coordenadas.head()"
   ]
  },
  {
   "cell_type": "markdown",
   "metadata": {},
   "source": [
    "#### Eliminar linhas com dados em falta"
   ]
  },
  {
   "cell_type": "code",
   "execution_count": 35,
   "metadata": {},
   "outputs": [
    {
     "data": {
      "text/html": [
       "<div>\n",
       "<style scoped>\n",
       "    .dataframe tbody tr th:only-of-type {\n",
       "        vertical-align: middle;\n",
       "    }\n",
       "\n",
       "    .dataframe tbody tr th {\n",
       "        vertical-align: top;\n",
       "    }\n",
       "\n",
       "    .dataframe thead th {\n",
       "        text-align: right;\n",
       "    }\n",
       "</style>\n",
       "<table border=\"1\" class=\"dataframe\">\n",
       "  <thead>\n",
       "    <tr style=\"text-align: right;\">\n",
       "      <th></th>\n",
       "      <th>Latitude</th>\n",
       "      <th>Longitude</th>\n",
       "    </tr>\n",
       "  </thead>\n",
       "  <tbody>\n",
       "    <tr>\n",
       "      <th>0</th>\n",
       "      <td>-29.047956</td>\n",
       "      <td>-78.778787</td>\n",
       "    </tr>\n",
       "    <tr>\n",
       "      <th>1</th>\n",
       "      <td>-2.586111</td>\n",
       "      <td>-78.558333</td>\n",
       "    </tr>\n",
       "    <tr>\n",
       "      <th>2</th>\n",
       "      <td>-2.922357</td>\n",
       "      <td>-79.0103607</td>\n",
       "    </tr>\n",
       "    <tr>\n",
       "      <th>4</th>\n",
       "      <td>-2.848737</td>\n",
       "      <td>-79.2537609</td>\n",
       "    </tr>\n",
       "    <tr>\n",
       "      <th>5</th>\n",
       "      <td>-1.511230</td>\n",
       "      <td>-78.8609122</td>\n",
       "    </tr>\n",
       "  </tbody>\n",
       "</table>\n",
       "</div>"
      ],
      "text/plain": [
       "    Latitude    Longitude\n",
       "0 -29.047956   -78.778787\n",
       "1  -2.586111   -78.558333\n",
       "2  -2.922357  -79.0103607\n",
       "4  -2.848737  -79.2537609\n",
       "5  -1.511230  -78.8609122"
      ]
     },
     "execution_count": 35,
     "metadata": {},
     "output_type": "execute_result"
    }
   ],
   "source": [
    "c_sl = coordenadas.dropna(subset=['Latitude','Longitude']) # eliminar linhas com dados em falta em ambas as colunas\n",
    "c_sl.head()"
   ]
  },
  {
   "cell_type": "markdown",
   "metadata": {},
   "source": [
    "#### Ordenar de forma descendente os dados"
   ]
  },
  {
   "cell_type": "code",
   "execution_count": 36,
   "metadata": {},
   "outputs": [
    {
     "data": {
      "text/html": [
       "<div>\n",
       "<style scoped>\n",
       "    .dataframe tbody tr th:only-of-type {\n",
       "        vertical-align: middle;\n",
       "    }\n",
       "\n",
       "    .dataframe tbody tr th {\n",
       "        vertical-align: top;\n",
       "    }\n",
       "\n",
       "    .dataframe thead th {\n",
       "        text-align: right;\n",
       "    }\n",
       "</style>\n",
       "<table border=\"1\" class=\"dataframe\">\n",
       "  <thead>\n",
       "    <tr style=\"text-align: right;\">\n",
       "      <th></th>\n",
       "      <th>Latitude</th>\n",
       "      <th>Longitude</th>\n",
       "    </tr>\n",
       "  </thead>\n",
       "  <tbody>\n",
       "    <tr>\n",
       "      <th>71</th>\n",
       "      <td>21.599722</td>\n",
       "      <td>-99.098889</td>\n",
       "    </tr>\n",
       "    <tr>\n",
       "      <th>18</th>\n",
       "      <td>1.093531</td>\n",
       "      <td>-78.4524591</td>\n",
       "    </tr>\n",
       "    <tr>\n",
       "      <th>37</th>\n",
       "      <td>1.086367</td>\n",
       "      <td>-79.157314</td>\n",
       "    </tr>\n",
       "    <tr>\n",
       "      <th>33</th>\n",
       "      <td>0.865753</td>\n",
       "      <td>-78.801299</td>\n",
       "    </tr>\n",
       "    <tr>\n",
       "      <th>15</th>\n",
       "      <td>0.821520</td>\n",
       "      <td>-77.73217</td>\n",
       "    </tr>\n",
       "    <tr>\n",
       "      <th>...</th>\n",
       "      <td>...</td>\n",
       "      <td>...</td>\n",
       "    </tr>\n",
       "    <tr>\n",
       "      <th>110</th>\n",
       "      <td>-4.062094</td>\n",
       "      <td>-78.948623</td>\n",
       "    </tr>\n",
       "    <tr>\n",
       "      <th>55</th>\n",
       "      <td>-4.262329</td>\n",
       "      <td>-79.2253776</td>\n",
       "    </tr>\n",
       "    <tr>\n",
       "      <th>54</th>\n",
       "      <td>-4.283333</td>\n",
       "      <td>-79</td>\n",
       "    </tr>\n",
       "    <tr>\n",
       "      <th>68</th>\n",
       "      <td>-4.733333</td>\n",
       "      <td>-77.066667</td>\n",
       "    </tr>\n",
       "    <tr>\n",
       "      <th>0</th>\n",
       "      <td>-29.047956</td>\n",
       "      <td>-78.778787</td>\n",
       "    </tr>\n",
       "  </tbody>\n",
       "</table>\n",
       "<p>96 rows × 2 columns</p>\n",
       "</div>"
      ],
      "text/plain": [
       "      Latitude    Longitude\n",
       "71   21.599722   -99.098889\n",
       "18    1.093531  -78.4524591\n",
       "37    1.086367   -79.157314\n",
       "33    0.865753   -78.801299\n",
       "15    0.821520    -77.73217\n",
       "..         ...          ...\n",
       "110  -4.062094   -78.948623\n",
       "55   -4.262329  -79.2253776\n",
       "54   -4.283333          -79\n",
       "68   -4.733333   -77.066667\n",
       "0   -29.047956   -78.778787\n",
       "\n",
       "[96 rows x 2 columns]"
      ]
     },
     "execution_count": 36,
     "metadata": {},
     "output_type": "execute_result"
    }
   ],
   "source": [
    "descendente=c_sl.sort_values(by=['Latitude'], ascending=False)\n",
    "#sort_values ordena por defeito de forma ascendente, com a nomeação False a ordenção fica de forma descendente\n",
    "#se aplicar True a ordenação fica de forma ascendente\n",
    "descendente"
   ]
  },
  {
   "cell_type": "markdown",
   "metadata": {},
   "source": [
    "#### Transformar os valores em strings"
   ]
  },
  {
   "cell_type": "code",
   "execution_count": 37,
   "metadata": {},
   "outputs": [
    {
     "data": {
      "text/plain": [
       "('-2.8487', '-79.2537')"
      ]
     },
     "execution_count": 37,
     "metadata": {},
     "output_type": "execute_result"
    }
   ],
   "source": [
    "#transformar float em string\n",
    "float_value = -2.8487\n",
    "string_value = str(float_value)\n",
    "float_value_1 = -79.2537\n",
    "string_value_1 = str(float_value_1)\n",
    "string_value,string_value_1"
   ]
  },
  {
   "cell_type": "markdown",
   "metadata": {},
   "source": [
    "#### Transformar colunas em valores strings"
   ]
  },
  {
   "cell_type": "code",
   "execution_count": 38,
   "metadata": {},
   "outputs": [
    {
     "data": {
      "text/html": [
       "<div>\n",
       "<style scoped>\n",
       "    .dataframe tbody tr th:only-of-type {\n",
       "        vertical-align: middle;\n",
       "    }\n",
       "\n",
       "    .dataframe tbody tr th {\n",
       "        vertical-align: top;\n",
       "    }\n",
       "\n",
       "    .dataframe thead th {\n",
       "        text-align: right;\n",
       "    }\n",
       "</style>\n",
       "<table border=\"1\" class=\"dataframe\">\n",
       "  <thead>\n",
       "    <tr style=\"text-align: right;\">\n",
       "      <th></th>\n",
       "      <th>Latitude</th>\n",
       "      <th>Longitude</th>\n",
       "    </tr>\n",
       "  </thead>\n",
       "  <tbody>\n",
       "    <tr>\n",
       "      <th>0</th>\n",
       "      <td>-29.047956</td>\n",
       "      <td>-78.778787</td>\n",
       "    </tr>\n",
       "    <tr>\n",
       "      <th>1</th>\n",
       "      <td>-2.5861110000000003</td>\n",
       "      <td>-78.558333</td>\n",
       "    </tr>\n",
       "    <tr>\n",
       "      <th>2</th>\n",
       "      <td>-2.9223567000000004</td>\n",
       "      <td>-79.0103607</td>\n",
       "    </tr>\n",
       "    <tr>\n",
       "      <th>4</th>\n",
       "      <td>-2.8487367999999997</td>\n",
       "      <td>-79.2537609</td>\n",
       "    </tr>\n",
       "    <tr>\n",
       "      <th>5</th>\n",
       "      <td>-1.5112299999999999</td>\n",
       "      <td>-78.8609122</td>\n",
       "    </tr>\n",
       "    <tr>\n",
       "      <th>7</th>\n",
       "      <td>-1.6700716</td>\n",
       "      <td>-79.0607285</td>\n",
       "    </tr>\n",
       "    <tr>\n",
       "      <th>9</th>\n",
       "      <td>-1.4043069</td>\n",
       "      <td>-78.754549</td>\n",
       "    </tr>\n",
       "    <tr>\n",
       "      <th>10</th>\n",
       "      <td>-2.548985</td>\n",
       "      <td>-78.8714679</td>\n",
       "    </tr>\n",
       "    <tr>\n",
       "      <th>11</th>\n",
       "      <td>-2.4230556</td>\n",
       "      <td>-78.8597222</td>\n",
       "    </tr>\n",
       "    <tr>\n",
       "      <th>13</th>\n",
       "      <td>-2.7381951</td>\n",
       "      <td>-78.8472003</td>\n",
       "    </tr>\n",
       "  </tbody>\n",
       "</table>\n",
       "</div>"
      ],
      "text/plain": [
       "               Latitude    Longitude\n",
       "0            -29.047956   -78.778787\n",
       "1   -2.5861110000000003   -78.558333\n",
       "2   -2.9223567000000004  -79.0103607\n",
       "4   -2.8487367999999997  -79.2537609\n",
       "5   -1.5112299999999999  -78.8609122\n",
       "7            -1.6700716  -79.0607285\n",
       "9            -1.4043069   -78.754549\n",
       "10            -2.548985  -78.8714679\n",
       "11           -2.4230556  -78.8597222\n",
       "13           -2.7381951  -78.8472003"
      ]
     },
     "execution_count": 38,
     "metadata": {},
     "output_type": "execute_result"
    }
   ],
   "source": [
    "#transformar as colunas em  valores strings para poderem ser usadas no próximo exercício\n",
    "df = c_sl.astype({\"Latitude\": 'str', \"Longitude\": 'str'})\n",
    "df=df.head(10)\n",
    "df"
   ]
  },
  {
   "cell_type": "markdown",
   "metadata": {},
   "source": [
    "#### Gráfico de coordenadas"
   ]
  },
  {
   "cell_type": "code",
   "execution_count": 39,
   "metadata": {},
   "outputs": [
    {
     "data": {
      "image/png": "[encoded data removed]",
      "text/plain": [
       "<Figure size 1656x720 with 1 Axes>"
      ]
     },
     "metadata": {
      "needs_background": "light"
     },
     "output_type": "display_data"
    }
   ],
   "source": [
    "\"\"\"Outra forma de realizar o exercício com formas e cores diferentes:\n",
    "x=(df[\"Longitude\"])\n",
    "y=(df[\"Latitude\"])\n",
    "fig = plt.figure()\n",
    "ax = plt.plot(x,y,'.r')\n",
    "plt.show()\"\"\"\n",
    "df.plot(kind=\"scatter\", x=\"Latitude\", y=\"Longitude\", alpha=1, marker=\"+\", color='red', s=200) # defenir x e y \n",
    "# defenir formato e cor\n",
    "# alpha refere-se á opacidade de dos pontos\n",
    "# kind é o tipo de formato do grafico\n",
    "# com a função s coonsegui mos alterar o tamanho do marker\n",
    "plt.gcf().set_size_inches(23, 10) # dimensões do gráfico\n",
    "coordenada_1=plt.show()\n",
    "coordenada_1"
   ]
  },
  {
   "cell_type": "markdown",
   "metadata": {},
   "source": [
    "### Conclusão:\n",
    "Em suma podemos concluir que o presente projeto permitiu ao grupo aprender variadas informações sobre o turismo Português e Estrangeiro, mas acima de tudo, e o mais importante permitiu-nos aprender novos conteúdos programáticos e a cima de tudo implementar aqueles que foram aprendidos em aula.\n",
    "Achamos deveras gratificante para a completação e finalização desta Unidade Curricular a execução deste projeto."
   ]
  }
 ],
 "metadata": {
  "kernelspec": {
   "display_name": "Python 3",
   "language": "python",
   "name": "python3"
  },
  "language_info": {
   "codemirror_mode": {
    "name": "ipython",
    "version": 3
   },
   "file_extension": ".py",
   "mimetype": "text/x-python",
   "name": "python",
   "nbconvert_exporter": "python",
   "pygments_lexer": "ipython3",
   "version": "3.8.5"
  }
 },
 "nbformat": 4,
 "nbformat_minor": 4
}
